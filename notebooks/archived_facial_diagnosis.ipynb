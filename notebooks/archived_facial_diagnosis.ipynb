{
 "cells": [
  {
   "cell_type": "markdown",
   "metadata": {
    "id": "87mb2Wqx5CE4"
   },
   "source": [
    "# 0. Get Started"
   ]
  },
  {
   "cell_type": "code",
   "execution_count": null,
   "metadata": {
    "id": "msYLITQ5EHij"
   },
   "outputs": [],
   "source": [
    "import torch\n",
    "import dlib\n",
    "import cv2\n",
    "from os import listdir\n",
    "from imutils import face_utils\n",
    "import numpy as np\n",
    "import imutils\n",
    "\n",
    "import matplotlib.pyplot as plt\n",
    "import matplotlib.image as mpimg\n",
    "\n",
    "import random\n",
    "import string\n",
    "\n",
    "import pandas as pd\n",
    "from tqdm import tqdm\n",
    "import seaborn as sns\n",
    "\n",
    "import pickle\n",
    "\n",
    "from sklearn.metrics import confusion_matrix, accuracy_score\n",
    "from sklearn.model_selection import train_test_split"
   ]
  },
  {
   "cell_type": "code",
   "execution_count": null,
   "metadata": {
    "colab": {
     "base_uri": "https://localhost:8080/"
    },
    "id": "Ro8qtCUT4KMN",
    "outputId": "83c85529-0cf2-4a13-8f77-e3a4c47df739"
   },
   "outputs": [
    {
     "name": "stdout",
     "output_type": "stream",
     "text": [
      "Populating the interactive namespace from numpy and matplotlib\n"
     ]
    },
    {
     "name": "stderr",
     "output_type": "stream",
     "text": [
      "/usr/local/lib/python3.6/dist-packages/IPython/core/magics/pylab.py:161: UserWarning: pylab import has clobbered these variables: ['random']\n",
      "`%matplotlib` prevents importing * from pylab and numpy\n",
      "  \"\\n`%matplotlib` prevents importing * from pylab and numpy\"\n"
     ]
    }
   ],
   "source": [
    "%pylab inline"
   ]
  },
  {
   "cell_type": "code",
   "execution_count": null,
   "metadata": {
    "id": "AP5tqi7cUz45"
   },
   "outputs": [],
   "source": [
    "file_dir = './drive/My Drive/oculoplastics_diagnosis/'\n",
    "data_dir = './drive/My Drive/oculoplastics_diagnosis/data/'\n",
    "img_dir = './drive/My Drive/oculoplastics_diagnosis/data/processed/'\n",
    "img_dir_normal = './drive/My Drive/oculoplastics_diagnosis/data/processed/normal/'\n",
    "img_dir_thyroid = './drive/My Drive/oculoplastics_diagnosis/data/processed/normal/thyroid_eye_disease/'"
   ]
  },
  {
   "cell_type": "code",
   "execution_count": null,
   "metadata": {
    "id": "of3MBD3JU0Em"
   },
   "outputs": [],
   "source": [
    "def display_one(a, title = \"Original\"):\n",
    "    plt.imshow(a), plt.title(title)\n",
    "    plt.xticks([]), plt.yticks([])\n",
    "    plt.show()"
   ]
  },
  {
   "cell_type": "markdown",
   "metadata": {
    "id": "-vd0dddK5NCb"
   },
   "source": [
    "# 1. Cleaning / Cropping & De-identify Images"
   ]
  },
  {
   "cell_type": "code",
   "execution_count": null,
   "metadata": {
    "id": "sVwtZ6MZ5R4i"
   },
   "outputs": [],
   "source": [
    "def get_random_string(length):\n",
    "    letters = list(string.ascii_lowercase)\n",
    "    result_str = ''.join(random.choice(letters) for i in range(length))\n",
    "    return result_str"
   ]
  },
  {
   "cell_type": "code",
   "execution_count": null,
   "metadata": {
    "id": "23HbhFwY11MK"
   },
   "outputs": [],
   "source": [
    "# Predictor file path info\n",
    "predictor_path = file_dir + 'shape_predictor_68_face_landmarks.dat'\n",
    "predictor = dlib.shape_predictor(predictor_path)\n",
    "\n",
    "face_detector = dlib.get_frontal_face_detector()\n",
    "\n",
    "# Define text info\n",
    "font = cv2.FONT_HERSHEY_SIMPLEX\n",
    "fontScale = 1\n",
    "fontColor = (255, 255, 255)\n",
    "lineType = 2\n",
    "\n",
    "def predict_landmarks(filepath, predictor):\n",
    "    \"\"\"\n",
    "    Predicting the landmarks given a image filepath and a predictor object\n",
    "    nput:\n",
    "        - filepath       : filepath to the image\n",
    "        - predictor      : predictor object\n",
    "    return:\n",
    "        - image          : output image\n",
    "        - shape          : list of landmark locations\n",
    "    \"\"\"\n",
    "\n",
    "    # load the input image, resize it, and convert it to grayscale\n",
    "    image = cv2.imread(filepath)\n",
    "    # image = imutils.resize(image, width = 250)\n",
    "    gray = cv2.cvtColor(image, cv2.COLOR_BGR2GRAY)\n",
    "    gray = cv2.GaussianBlur(gray, (5, 5), 0)\n",
    "\n",
    "    rects = face_detector(gray, 1)\n",
    "    if len(rects) == 0:\n",
    "        rects = dlib.rectangles()\n",
    "        h, w = image.shape[0], image.shape[1]\n",
    "        rec = dlib.rectangle(0, 0, w, h)\n",
    "        rects.append(rec)\n",
    "\n",
    "    shape = 0\n",
    "    # loop over the face detections\n",
    "    for (i, rect) in enumerate(rects):\n",
    "\n",
    "        shape = predictor(gray, rect)\n",
    "        shape = face_utils.shape_to_np(shape)\n",
    "        shape = shape[36:48, :]\n",
    "\n",
    "        # loop over the (x, y)-coordinates for the facial landmarks\n",
    "        # and draw them on the image\n",
    "        # for (x, y) in shape:\n",
    "        #     cv2.circle(image, (x, y), 50, (0, 0, 255), -1)\n",
    "    # return cv2.cvtColor(image, cv2.COLOR_BGR2RGB), shape\n",
    "    return image, shape"
   ]
  },
  {
   "cell_type": "markdown",
   "metadata": {
    "id": "GEa8le2DePJb"
   },
   "source": [
    "- If there are existing images, load their info"
   ]
  },
  {
   "cell_type": "code",
   "execution_count": null,
   "metadata": {
    "colab": {
     "base_uri": "https://localhost:8080/",
     "height": 34
    },
    "id": "zX6jp7jJu4Ae",
    "outputId": "00b5a9ee-f8c8-409e-dec0-079380aad802"
   },
   "outputs": [
    {
     "data": {
      "text/plain": [
       "(508, 4)"
      ]
     },
     "execution_count": 5,
     "metadata": {
      "tags": []
     },
     "output_type": "execute_result"
    }
   ],
   "source": [
    "loading_success = False\n",
    "try:\n",
    "    old_img_info_df = pd.read_csv(file_dir + 'data/img_info_df.csv')\n",
    "    if old_img_info_df.shape[0] > 0:\n",
    "        loading_success = True\n",
    "except:\n",
    "    pass\n",
    "\n",
    "old_img_info_df.shape"
   ]
  },
  {
   "cell_type": "code",
   "execution_count": null,
   "metadata": {
    "colab": {
     "base_uri": "https://localhost:8080/",
     "height": 34
    },
    "id": "rRxSoFLf4K4m",
    "outputId": "dc9a5feb-1bc8-4440-cccc-3e5e979c306f"
   },
   "outputs": [
    {
     "name": "stderr",
     "output_type": "stream",
     "text": [
      "100%|██████████| 201/201 [40:25<00:00, 12.07s/it]\n"
     ]
    }
   ],
   "source": [
    "img_info_dic = []\n",
    "error_img = []\n",
    "all_key_set = set([])\n",
    "# group_name = 'normal'\n",
    "\n",
    "def clean_group(group_name):\n",
    "    count = 0\n",
    "    for f in tqdm(listdir(file_dir + 'data/raw/' + group_name + '/')):\n",
    "        if '.JPG' not in f:\n",
    "            continue\n",
    "        count += 1\n",
    "        # if count < 91 or count > 100:\n",
    "        #     continue\n",
    "        output, shape = predict_landmarks(file_dir + 'data/raw/' + group_name + '/' + f, predictor)\n",
    "        new_key = get_random_string(20)\n",
    "        while new_key in all_key_set:\n",
    "            new_key = get_random_string(20)\n",
    "        all_key_set.add(new_key)\n",
    "        new_name = group_name + '_' + new_key + '.JPG'\n",
    "        tmp_dic = {}\n",
    "        tmp_dic['original_name'] = f\n",
    "        tmp_dic['new_name'] = new_name\n",
    "        tmp_dic['group'] = group_name\n",
    "\n",
    "        # Cropping\n",
    "        inter_w = shape[6][0] - shape[3][0]\n",
    "        left = int(shape[0][0] - inter_w / 2)\n",
    "        right = int(shape[9][0] + inter_w / 2)\n",
    "        up = min(shape[:, 1])\n",
    "        down = max(shape[:, 1])\n",
    "        inter_h = down - up\n",
    "        up = up - inter_h\n",
    "        down = down + inter_h\n",
    "        output = output[up: down, left: right]\n",
    "        shape = shape - np.array([left, up])\n",
    "        tmp_dic['landmark'] = [tuple(i) for i in shape]\n",
    "\n",
    "        # Saving\n",
    "        if 0 in output.shape:\n",
    "            error_img.append(tmp_dic)\n",
    "            continue\n",
    "        img_info_dic.append(tmp_dic)\n",
    "        cv2.imwrite(file_dir + 'data/processed/' + group_name + '/' + new_name, output)\n",
    "        # for (x, y) in shape:\n",
    "        #     cv2.circle(output, (x, y), 50, (0, 0, 255), -1)\n",
    "        # imgplot = plt.imshow(output)\n",
    "        # plt.show()\n",
    "        # if count == 5:\n",
    "        #     break\n",
    "\n",
    "for group in ['ptosis']:\n",
    "    clean_group(group)"
   ]
  },
  {
   "cell_type": "code",
   "execution_count": null,
   "metadata": {
    "colab": {
     "base_uri": "https://localhost:8080/",
     "height": 34
    },
    "id": "ON95B9Xu4LA5",
    "outputId": "78890022-69ee-4633-e7ba-1d50e68edffc"
   },
   "outputs": [
    {
     "data": {
      "text/plain": [
       "(201, 4)"
      ]
     },
     "execution_count": 9,
     "metadata": {
      "tags": []
     },
     "output_type": "execute_result"
    }
   ],
   "source": [
    "img_info_df = pd.DataFrame(img_info_dic)\n",
    "img_info_df.shape"
   ]
  },
  {
   "cell_type": "code",
   "execution_count": null,
   "metadata": {
    "id": "kXuZ_5gcXWld"
   },
   "outputs": [],
   "source": [
    "if loading_success:\n",
    "    img_info_df = pd.concat([img_info_df, old_img_info_df]).reset_index(drop = True)"
   ]
  },
  {
   "cell_type": "code",
   "execution_count": null,
   "metadata": {
    "colab": {
     "base_uri": "https://localhost:8080/",
     "height": 34
    },
    "id": "S--kT3QzXynw",
    "outputId": "a4ed5200-202f-444e-9f34-5b7e9f07e075"
   },
   "outputs": [
    {
     "data": {
      "text/plain": [
       "(709, 4)"
      ]
     },
     "execution_count": 11,
     "metadata": {
      "tags": []
     },
     "output_type": "execute_result"
    }
   ],
   "source": [
    "img_info_df.shape"
   ]
  },
  {
   "cell_type": "code",
   "execution_count": null,
   "metadata": {
    "id": "VfLwJp8TXyrU"
   },
   "outputs": [],
   "source": []
  },
  {
   "cell_type": "code",
   "execution_count": null,
   "metadata": {
    "colab": {
     "base_uri": "https://localhost:8080/",
     "height": 111
    },
    "id": "DkdbUqbPXygW",
    "outputId": "0b965eed-abeb-4b58-caa5-e3f4cf896851"
   },
   "outputs": [
    {
     "data": {
      "text/html": [
       "<div>\n",
       "<style scoped>\n",
       "    .dataframe tbody tr th:only-of-type {\n",
       "        vertical-align: middle;\n",
       "    }\n",
       "\n",
       "    .dataframe tbody tr th {\n",
       "        vertical-align: top;\n",
       "    }\n",
       "\n",
       "    .dataframe thead th {\n",
       "        text-align: right;\n",
       "    }\n",
       "</style>\n",
       "<table border=\"1\" class=\"dataframe\">\n",
       "  <thead>\n",
       "    <tr style=\"text-align: right;\">\n",
       "      <th></th>\n",
       "      <th>original_name</th>\n",
       "      <th>new_name</th>\n",
       "      <th>group</th>\n",
       "      <th>landmark</th>\n",
       "    </tr>\n",
       "  </thead>\n",
       "  <tbody>\n",
       "    <tr>\n",
       "      <th>0</th>\n",
       "      <td>02AC08319550-020116-374.33.JPG</td>\n",
       "      <td>ptosis_nvzpclozaoeidsnwdcpv.JPG</td>\n",
       "      <td>ptosis</td>\n",
       "      <td>[(274, 257), (379, 167), (523, 163), (668, 250...</td>\n",
       "    </tr>\n",
       "    <tr>\n",
       "      <th>1</th>\n",
       "      <td>02AK13979406-060616-374.33.JPG</td>\n",
       "      <td>ptosis_eifbepvvxejylejtpgqb.JPG</td>\n",
       "      <td>ptosis</td>\n",
       "      <td>[(300, 235), (427, 144), (592, 141), (742, 244...</td>\n",
       "    </tr>\n",
       "  </tbody>\n",
       "</table>\n",
       "</div>"
      ],
      "text/plain": [
       "                    original_name  ...                                           landmark\n",
       "0  02AC08319550-020116-374.33.JPG  ...  [(274, 257), (379, 167), (523, 163), (668, 250...\n",
       "1  02AK13979406-060616-374.33.JPG  ...  [(300, 235), (427, 144), (592, 141), (742, 244...\n",
       "\n",
       "[2 rows x 4 columns]"
      ]
     },
     "execution_count": 14,
     "metadata": {
      "tags": []
     },
     "output_type": "execute_result"
    }
   ],
   "source": [
    "img_info_df.head(2)"
   ]
  },
  {
   "cell_type": "code",
   "execution_count": null,
   "metadata": {
    "id": "SekcMbS_dWCK"
   },
   "outputs": [],
   "source": [
    "# img_info_df.to_csv(file_dir + 'data/img_info_df.csv', index = False)"
   ]
  },
  {
   "cell_type": "code",
   "execution_count": null,
   "metadata": {
    "id": "RV0jV1msdWHH"
   },
   "outputs": [],
   "source": [
    "# pd.DataFrame(error_img).to_csv('error_img_df.csv', index = False)"
   ]
  },
  {
   "cell_type": "code",
   "execution_count": null,
   "metadata": {
    "id": "HsZmkDYTeKpY"
   },
   "outputs": [],
   "source": []
  },
  {
   "cell_type": "markdown",
   "metadata": {
    "id": "qTJl3Vy2egSz"
   },
   "source": [
    "## Filter out the error images\n",
    "- **MANUAL LABLEING REQUIRED!**\n",
    "- Before this step, please check `error_img_df.csv` and other potential error images (e.g. images with very little file size). After verifying them, update the `error_img_df.csv` and proceed"
   ]
  },
  {
   "cell_type": "code",
   "execution_count": null,
   "metadata": {
    "id": "QSqhE2QweKnH"
   },
   "outputs": [],
   "source": [
    "img_info_df = pd.read_csv(file_dir + 'data/img_info_df.csv')\n",
    "error_img_df = pd.read_csv(file_dir + 'data/error_img_df.csv')\n",
    "error_img_names = set(error_img_df.new_name.values)\n",
    "\n",
    "# Construct the needed columns\n",
    "img_info_df['error'] = img_info_df.new_name.apply(lambda n: 1 if n in error_img_names else 0)\n",
    "img_info_df['filepath'] = img_info_df.apply(lambda s: s.group + '/' + s.new_name, axis = 1)"
   ]
  },
  {
   "cell_type": "code",
   "execution_count": null,
   "metadata": {
    "colab": {
     "base_uri": "https://localhost:8080/"
    },
    "id": "bmkJ1mqBeKkV",
    "outputId": "19c8da2a-7fea-4d2e-e6c0-b6d57d6b3cc3"
   },
   "outputs": [
    {
     "name": "stdout",
     "output_type": "stream",
     "text": [
      "Out of 709 images, 18 were not cleaned/cropped correctly.\n",
      "Out of 709 images, 257 were cleaned/cropped correctly AND had a label of \"normal eyes\".\n"
     ]
    }
   ],
   "source": [
    "num_error = img_info_df.query('error == 1').shape[0]\n",
    "num_normal = img_info_df.query('group == \"normal\" & error == \"0\"').shape[0]\n",
    "print('Out of', img_info_df.shape[0], 'images,', num_error, 'were not cleaned/cropped correctly.')\n",
    "print('Out of', img_info_df.shape[0], 'images,', num_normal, 'were cleaned/cropped correctly AND had a label of \"normal eyes\".')"
   ]
  },
  {
   "cell_type": "code",
   "execution_count": null,
   "metadata": {
    "colab": {
     "base_uri": "https://localhost:8080/",
     "height": 204
    },
    "id": "lGqPMUgLgFxe",
    "outputId": "556d7295-5b06-4b79-d4da-6dde61098e24"
   },
   "outputs": [
    {
     "data": {
      "text/html": [
       "<div>\n",
       "<style scoped>\n",
       "    .dataframe tbody tr th:only-of-type {\n",
       "        vertical-align: middle;\n",
       "    }\n",
       "\n",
       "    .dataframe tbody tr th {\n",
       "        vertical-align: top;\n",
       "    }\n",
       "\n",
       "    .dataframe thead th {\n",
       "        text-align: right;\n",
       "    }\n",
       "</style>\n",
       "<table border=\"1\" class=\"dataframe\">\n",
       "  <thead>\n",
       "    <tr style=\"text-align: right;\">\n",
       "      <th></th>\n",
       "      <th>original_name</th>\n",
       "      <th>new_name</th>\n",
       "      <th>group</th>\n",
       "      <th>error</th>\n",
       "      <th>filepath</th>\n",
       "    </tr>\n",
       "  </thead>\n",
       "  <tbody>\n",
       "    <tr>\n",
       "      <th>0</th>\n",
       "      <td>02AC08319550-020116-374.33.JPG</td>\n",
       "      <td>ptosis_nvzpclozaoeidsnwdcpv.JPG</td>\n",
       "      <td>ptosis</td>\n",
       "      <td>0</td>\n",
       "      <td>ptosis/ptosis_nvzpclozaoeidsnwdcpv.JPG</td>\n",
       "    </tr>\n",
       "    <tr>\n",
       "      <th>1</th>\n",
       "      <td>02AK13979406-060616-374.33.JPG</td>\n",
       "      <td>ptosis_eifbepvvxejylejtpgqb.JPG</td>\n",
       "      <td>ptosis</td>\n",
       "      <td>0</td>\n",
       "      <td>ptosis/ptosis_eifbepvvxejylejtpgqb.JPG</td>\n",
       "    </tr>\n",
       "    <tr>\n",
       "      <th>2</th>\n",
       "      <td>02AL30243827-090816-374.33.JPG</td>\n",
       "      <td>ptosis_saykhsfyqqtyolfzfshp.JPG</td>\n",
       "      <td>ptosis</td>\n",
       "      <td>0</td>\n",
       "      <td>ptosis/ptosis_saykhsfyqqtyolfzfshp.JPG</td>\n",
       "    </tr>\n",
       "    <tr>\n",
       "      <th>3</th>\n",
       "      <td>02AK12478616-031416-374.33.JPG</td>\n",
       "      <td>ptosis_eunkxhkcinmytgwlybrb.JPG</td>\n",
       "      <td>ptosis</td>\n",
       "      <td>0</td>\n",
       "      <td>ptosis/ptosis_eunkxhkcinmytgwlybrb.JPG</td>\n",
       "    </tr>\n",
       "    <tr>\n",
       "      <th>4</th>\n",
       "      <td>02AF30502849-062918-374.33.JPG</td>\n",
       "      <td>ptosis_lfmvjvxpyosmpzquvgup.JPG</td>\n",
       "      <td>ptosis</td>\n",
       "      <td>0</td>\n",
       "      <td>ptosis/ptosis_lfmvjvxpyosmpzquvgup.JPG</td>\n",
       "    </tr>\n",
       "  </tbody>\n",
       "</table>\n",
       "</div>"
      ],
      "text/plain": [
       "                    original_name  ...                                filepath\n",
       "0  02AC08319550-020116-374.33.JPG  ...  ptosis/ptosis_nvzpclozaoeidsnwdcpv.JPG\n",
       "1  02AK13979406-060616-374.33.JPG  ...  ptosis/ptosis_eifbepvvxejylejtpgqb.JPG\n",
       "2  02AL30243827-090816-374.33.JPG  ...  ptosis/ptosis_saykhsfyqqtyolfzfshp.JPG\n",
       "3  02AK12478616-031416-374.33.JPG  ...  ptosis/ptosis_eunkxhkcinmytgwlybrb.JPG\n",
       "4  02AF30502849-062918-374.33.JPG  ...  ptosis/ptosis_lfmvjvxpyosmpzquvgup.JPG\n",
       "\n",
       "[5 rows x 5 columns]"
      ]
     },
     "execution_count": 24,
     "metadata": {
      "tags": []
     },
     "output_type": "execute_result"
    }
   ],
   "source": [
    "# Drop un-necessary columns\n",
    "img_info_df = img_info_df.query('error == 0').drop(columns = ['landmark']).reset_index(drop = True)\n",
    "img_info_df.head()"
   ]
  },
  {
   "cell_type": "code",
   "execution_count": null,
   "metadata": {
    "colab": {
     "base_uri": "https://localhost:8080/"
    },
    "id": "crSIinWFeKhe",
    "outputId": "d65f5cdd-0536-492a-8f83-f5ebbe9f5878"
   },
   "outputs": [
    {
     "name": "stdout",
     "output_type": "stream",
     "text": [
      "Now saving the cleaning result summary sheet with: 691 images.\n"
     ]
    }
   ],
   "source": [
    "print('Now saving the cleaning result summary sheet with:', img_info_df.shape[0], 'images.')\n",
    "img_info_df.to_csv(file_dir + 'data/img_info_cleaned_no_error.csv', index = False)"
   ]
  },
  {
   "cell_type": "markdown",
   "metadata": {
    "id": "O2GrJRecspeH"
   },
   "source": [
    "# 2. Pre-processing / Preparing Face Data"
   ]
  },
  {
   "cell_type": "code",
   "execution_count": null,
   "metadata": {
    "colab": {
     "base_uri": "https://localhost:8080/",
     "height": 204
    },
    "id": "7P3qbMn7bXC5",
    "outputId": "db9b5a86-ea75-43aa-93fa-2a4ed8fb5635"
   },
   "outputs": [
    {
     "data": {
      "text/html": [
       "<div>\n",
       "<style scoped>\n",
       "    .dataframe tbody tr th:only-of-type {\n",
       "        vertical-align: middle;\n",
       "    }\n",
       "\n",
       "    .dataframe tbody tr th {\n",
       "        vertical-align: top;\n",
       "    }\n",
       "\n",
       "    .dataframe thead th {\n",
       "        text-align: right;\n",
       "    }\n",
       "</style>\n",
       "<table border=\"1\" class=\"dataframe\">\n",
       "  <thead>\n",
       "    <tr style=\"text-align: right;\">\n",
       "      <th></th>\n",
       "      <th>original_name</th>\n",
       "      <th>new_name</th>\n",
       "      <th>group</th>\n",
       "      <th>filepath</th>\n",
       "      <th>label</th>\n",
       "      <th>dataset</th>\n",
       "    </tr>\n",
       "  </thead>\n",
       "  <tbody>\n",
       "    <tr>\n",
       "      <th>0</th>\n",
       "      <td>02AC08319550-020116-374.33.JPG</td>\n",
       "      <td>ptosis_nvzpclozaoeidsnwdcpv.JPG</td>\n",
       "      <td>ptosis</td>\n",
       "      <td>ptosis/ptosis_nvzpclozaoeidsnwdcpv.JPG</td>\n",
       "      <td>2</td>\n",
       "      <td>val</td>\n",
       "    </tr>\n",
       "    <tr>\n",
       "      <th>1</th>\n",
       "      <td>02AK13979406-060616-374.33.JPG</td>\n",
       "      <td>ptosis_eifbepvvxejylejtpgqb.JPG</td>\n",
       "      <td>ptosis</td>\n",
       "      <td>ptosis/ptosis_eifbepvvxejylejtpgqb.JPG</td>\n",
       "      <td>2</td>\n",
       "      <td>train</td>\n",
       "    </tr>\n",
       "    <tr>\n",
       "      <th>2</th>\n",
       "      <td>02AL30243827-090816-374.33.JPG</td>\n",
       "      <td>ptosis_saykhsfyqqtyolfzfshp.JPG</td>\n",
       "      <td>ptosis</td>\n",
       "      <td>ptosis/ptosis_saykhsfyqqtyolfzfshp.JPG</td>\n",
       "      <td>2</td>\n",
       "      <td>test</td>\n",
       "    </tr>\n",
       "    <tr>\n",
       "      <th>3</th>\n",
       "      <td>02AK12478616-031416-374.33.JPG</td>\n",
       "      <td>ptosis_eunkxhkcinmytgwlybrb.JPG</td>\n",
       "      <td>ptosis</td>\n",
       "      <td>ptosis/ptosis_eunkxhkcinmytgwlybrb.JPG</td>\n",
       "      <td>2</td>\n",
       "      <td>train</td>\n",
       "    </tr>\n",
       "    <tr>\n",
       "      <th>4</th>\n",
       "      <td>02AM30491425-072718-374.33.JPG</td>\n",
       "      <td>ptosis_hcxzahrepngizofzprqp.JPG</td>\n",
       "      <td>ptosis</td>\n",
       "      <td>ptosis/ptosis_hcxzahrepngizofzprqp.JPG</td>\n",
       "      <td>2</td>\n",
       "      <td>train</td>\n",
       "    </tr>\n",
       "  </tbody>\n",
       "</table>\n",
       "</div>"
      ],
      "text/plain": [
       "                    original_name  ... dataset\n",
       "0  02AC08319550-020116-374.33.JPG  ...     val\n",
       "1  02AK13979406-060616-374.33.JPG  ...   train\n",
       "2  02AL30243827-090816-374.33.JPG  ...    test\n",
       "3  02AK12478616-031416-374.33.JPG  ...   train\n",
       "4  02AM30491425-072718-374.33.JPG  ...   train\n",
       "\n",
       "[5 rows x 6 columns]"
      ]
     },
     "execution_count": 5,
     "metadata": {
      "tags": []
     },
     "output_type": "execute_result"
    }
   ],
   "source": [
    "img_info_cleaned_no_error = pd.read_csv(file_dir + 'data/img_info_cleaned_no_error.csv')\n",
    "img_info_cleaned_no_error.head()"
   ]
  },
  {
   "cell_type": "code",
   "execution_count": null,
   "metadata": {
    "id": "ORLaxGv5u8wW"
   },
   "outputs": [],
   "source": [
    "file_dir = './drive/My Drive/oculoplastics_diagnosis/'\n",
    "img_dir = './drive/My Drive/oculoplastics_diagnosis/data/processed/'\n",
    "img_dir_normal = './drive/My Drive/oculoplastics_diagnosis/data/processed/normal/'\n",
    "img_dir_thyroid = './drive/My Drive/oculoplastics_diagnosis/data/processed/normal/thyroid_eye_disease/'"
   ]
  },
  {
   "cell_type": "markdown",
   "metadata": {
    "id": "4TmdPQyDNGBE"
   },
   "source": [
    "## 2.1 Resize Images"
   ]
  },
  {
   "cell_type": "code",
   "execution_count": null,
   "metadata": {
    "id": "Ka6HUIXkHJAV"
   },
   "outputs": [],
   "source": [
    "# img_info_df.to_csv(file_dir + 'data/img_info_cleaned.csv', index = False)\n",
    "# img_info_cleaned = pd.read_csv(file_dir + 'data/img_info_cleaned.csv')"
   ]
  },
  {
   "cell_type": "code",
   "execution_count": null,
   "metadata": {
    "id": "h4fi_xKpNB97"
   },
   "outputs": [],
   "source": [
    "processed_img_dir = './drive/My Drive/oculoplastics_diagnosis/data/processed/'\n",
    "\n",
    "# Function to resize image\n",
    "def resize_to(desired_size, im_pth):\n",
    "    im = cv2.imread(im_pth, 0)\n",
    "    old_size = im.shape[:2] # old_size is in (height, width) format\n",
    "\n",
    "    ratio = float(desired_size)/max(old_size)\n",
    "    new_size = tuple([int(x*ratio) for x in old_size])\n",
    "\n",
    "    # new_size should be in (width, height) format\n",
    "\n",
    "    im = cv2.resize(im, (new_size[1], new_size[0]))\n",
    "\n",
    "    delta_w = desired_size - new_size[1]\n",
    "    delta_h = desired_size // 2 - new_size[0]\n",
    "    top, bottom = delta_h // 2, delta_h-(delta_h//2)\n",
    "    left, right = delta_w // 2, delta_w-(delta_w//2)\n",
    "\n",
    "    color = [0, 0, 0]\n",
    "    try:\n",
    "        new_im = cv2.copyMakeBorder(im, top, bottom, left, right, cv2.BORDER_CONSTANT,\n",
    "            value = color)\n",
    "        return new_im\n",
    "    except:\n",
    "        print('Error at:', im_pth)\n",
    "        return"
   ]
  },
  {
   "cell_type": "code",
   "execution_count": null,
   "metadata": {
    "id": "4EguYWoltlv2"
   },
   "outputs": [],
   "source": [
    "# display_one(resize_to(512, img_dir + 'normal/' + 'normal_rrkbifwnbxdvukfhmvgv.JPG'))"
   ]
  },
  {
   "cell_type": "code",
   "execution_count": null,
   "metadata": {
    "colab": {
     "base_uri": "https://localhost:8080/"
    },
    "id": "Gl0phYluwjIC",
    "outputId": "2d162853-3c1d-44d3-8c5c-1601d2994289"
   },
   "outputs": [
    {
     "name": "stderr",
     "output_type": "stream",
     "text": [
      "100%|██████████| 690/690 [13:04<00:00,  1.14s/it]\n"
     ]
    }
   ],
   "source": [
    "img_info_cleaned_no_error['resized_img'] = [resize_to(512, img_dir + fp) for fp in tqdm(img_info_cleaned_no_error.filepath)] "
   ]
  },
  {
   "cell_type": "markdown",
   "metadata": {
    "id": "J4LqobiAhrLb"
   },
   "source": [
    "## 2.2 Assigning groups"
   ]
  },
  {
   "cell_type": "code",
   "execution_count": null,
   "metadata": {
    "id": "U1_mVrK5HF7M"
   },
   "outputs": [],
   "source": [
    "def calc_label(group):\n",
    "    if group == 'normal':\n",
    "        return 0\n",
    "    if group == 'thyroid_eye_disease':\n",
    "        return 1\n",
    "    if group == 'ptosis':\n",
    "        return 2\n",
    "img_info_cleaned_no_error['label'] = img_info_cleaned_no_error.group.apply(calc_label)"
   ]
  },
  {
   "cell_type": "markdown",
   "metadata": {
    "id": "P8jj-AyIFW6N"
   },
   "source": [
    "## 2.3 Train test split"
   ]
  },
  {
   "cell_type": "code",
   "execution_count": null,
   "metadata": {
    "colab": {
     "base_uri": "https://localhost:8080/"
    },
    "id": "Zj9EsgtQh0JQ",
    "outputId": "4fe3eef5-adb6-442b-db31-ab36585a9af1"
   },
   "outputs": [
    {
     "name": "stdout",
     "output_type": "stream",
     "text": [
      "Number of images dropped because of NaN: 0\n"
     ]
    }
   ],
   "source": [
    "prev_shape = img_info_cleaned_no_error.shape[0]\n",
    "img_info_cleaned_no_error = img_info_cleaned_no_error.dropna().reset_index(drop = True)\n",
    "curr_shape = img_info_cleaned_no_error.shape[0]\n",
    "print('Number of images dropped because of NaN:', prev_shape - curr_shape)"
   ]
  },
  {
   "cell_type": "code",
   "execution_count": null,
   "metadata": {
    "colab": {
     "base_uri": "https://localhost:8080/",
     "height": 196
    },
    "id": "Q_3GyXpWFYb4",
    "outputId": "e2deca77-34e9-40e3-c607-d0b031bd9c91"
   },
   "outputs": [
    {
     "name": "stderr",
     "output_type": "stream",
     "text": [
      "100%|██████████| 690/690 [00:00<00:00, 14715.14it/s]"
     ]
    },
    {
     "name": "stdout",
     "output_type": "stream",
     "text": [
      "Split done, resulting in the following:\n",
      " Train: 338\n",
      " Val: 145\n",
      " Test: 207\n"
     ]
    },
    {
     "name": "stderr",
     "output_type": "stream",
     "text": [
      "\n"
     ]
    },
    {
     "data": {
      "text/html": [
       "<div>\n",
       "<style scoped>\n",
       "    .dataframe tbody tr th:only-of-type {\n",
       "        vertical-align: middle;\n",
       "    }\n",
       "\n",
       "    .dataframe tbody tr th {\n",
       "        vertical-align: top;\n",
       "    }\n",
       "\n",
       "    .dataframe thead th {\n",
       "        text-align: right;\n",
       "    }\n",
       "</style>\n",
       "<table border=\"1\" class=\"dataframe\">\n",
       "  <thead>\n",
       "    <tr style=\"text-align: right;\">\n",
       "      <th></th>\n",
       "      <th>original_name</th>\n",
       "      <th>new_name</th>\n",
       "      <th>group</th>\n",
       "      <th>filepath</th>\n",
       "      <th>label</th>\n",
       "      <th>dataset</th>\n",
       "      <th>resized_img</th>\n",
       "    </tr>\n",
       "  </thead>\n",
       "  <tbody>\n",
       "    <tr>\n",
       "      <th>0</th>\n",
       "      <td>02AC08319550-020116-374.33.JPG</td>\n",
       "      <td>ptosis_nvzpclozaoeidsnwdcpv.JPG</td>\n",
       "      <td>ptosis</td>\n",
       "      <td>ptosis/ptosis_nvzpclozaoeidsnwdcpv.JPG</td>\n",
       "      <td>2</td>\n",
       "      <td>val</td>\n",
       "      <td>[[0, 0, 0, 0, 0, 0, 0, 0, 0, 0, 0, 0, 0, 0, 0,...</td>\n",
       "    </tr>\n",
       "    <tr>\n",
       "      <th>1</th>\n",
       "      <td>02AK13979406-060616-374.33.JPG</td>\n",
       "      <td>ptosis_eifbepvvxejylejtpgqb.JPG</td>\n",
       "      <td>ptosis</td>\n",
       "      <td>ptosis/ptosis_eifbepvvxejylejtpgqb.JPG</td>\n",
       "      <td>2</td>\n",
       "      <td>train</td>\n",
       "      <td>[[0, 0, 0, 0, 0, 0, 0, 0, 0, 0, 0, 0, 0, 0, 0,...</td>\n",
       "    </tr>\n",
       "  </tbody>\n",
       "</table>\n",
       "</div>"
      ],
      "text/plain": [
       "                    original_name  ...                                        resized_img\n",
       "0  02AC08319550-020116-374.33.JPG  ...  [[0, 0, 0, 0, 0, 0, 0, 0, 0, 0, 0, 0, 0, 0, 0,...\n",
       "1  02AK13979406-060616-374.33.JPG  ...  [[0, 0, 0, 0, 0, 0, 0, 0, 0, 0, 0, 0, 0, 0, 0,...\n",
       "\n",
       "[2 rows x 7 columns]"
      ]
     },
     "execution_count": 13,
     "metadata": {
      "tags": []
     },
     "output_type": "execute_result"
    }
   ],
   "source": [
    "X = img_info_cleaned_no_error['resized_img'].values\n",
    "y = img_info_cleaned_no_error['label'].values\n",
    "\n",
    "all_idx = list(range(len(X)))\n",
    "X_train_idx, X_test_idx, y_train, y_test = train_test_split(all_idx, y, test_size = 0.3, random_state = 42)\n",
    "X_train_idx, X_val_idx, y_train, y_val = train_test_split([i for i in all_idx if i not in X_test_idx], y_train, test_size = 0.3, random_state = 42)\n",
    "\n",
    "# print(len(X_train_idx), len(X_val_idx), len(X_test_idx))\n",
    "\n",
    "train_idx_dict = dict(zip(range(len(X_train_idx)), X_train_idx))\n",
    "val_idx_dict = dict(zip(range(len(X_val_idx)), X_val_idx))\n",
    "test_idx_dict = dict(zip(range(len(X_test_idx)), X_test_idx))\n",
    "\n",
    "X_train, X_val, X_test = X[X_train_idx], X[X_val_idx], X[X_test_idx]\n",
    "y_train, y_val, y_test = y[X_train_idx], y[X_val_idx], y[X_test_idx]\n",
    "# print(X_train.shape, X_val.shape, X_test.shape)\n",
    "\n",
    "img_info_cleaned_no_error['dataset'] = range(len(X))\n",
    "def calc_dataset(s):\n",
    "    if s in X_train_idx:\n",
    "        return 'train'\n",
    "    if s in X_val_idx:\n",
    "        return 'val'\n",
    "    if s in X_test_idx:\n",
    "        return 'test'\n",
    "img_info_cleaned_no_error.dataset = [calc_dataset(idx) for idx in tqdm (img_info_cleaned_no_error.dataset.values)]\n",
    "print('Split done, resulting in the following:')\n",
    "print(' Train:', len(y_train))\n",
    "print(' Val:', len(y_val))\n",
    "print(' Test:', len(y_test))\n",
    "img_info_cleaned_no_error.head(2)"
   ]
  },
  {
   "cell_type": "markdown",
   "metadata": {
    "id": "2IQb5IaZGb0w"
   },
   "source": [
    "## Save training info to local files"
   ]
  },
  {
   "cell_type": "code",
   "execution_count": null,
   "metadata": {
    "id": "U-zqg65_dS8p"
   },
   "outputs": [],
   "source": [
    "f = open(data_dir + 'pickle/' + 'img_info_cleaned_no_error', 'wb')\n",
    "pickle.dump(img_info_cleaned_no_error, f)\n",
    "f.close()"
   ]
  },
  {
   "cell_type": "code",
   "execution_count": null,
   "metadata": {
    "id": "CnY2hj9QFfbR"
   },
   "outputs": [],
   "source": [
    "# img_info_cleaned_no_error = img_info_cleaned_no_error.drop(columns = ['resized_img'])\n",
    "img_info_cleaned_no_error.to_csv(file_dir + 'data/img_info_cleaned_no_error.csv', index = False)"
   ]
  },
  {
   "cell_type": "code",
   "execution_count": null,
   "metadata": {
    "id": "g7WiOZUaFfe6"
   },
   "outputs": [],
   "source": [
    "f = open(data_dir + 'pickle/' + 'X_train', 'wb')\n",
    "pickle.dump(X_train, f)\n",
    "f.close()\n",
    "\n",
    "f = open(data_dir + 'pickle/' + 'X_val', 'wb')\n",
    "pickle.dump(X_val, f)\n",
    "f.close()\n",
    "\n",
    "f = open(data_dir + 'pickle/' + 'X_test', 'wb')\n",
    "pickle.dump(X_test, f)\n",
    "f.close()\n",
    "\n",
    "\n",
    "f = open(data_dir + 'pickle/' + 'y_train', 'wb')\n",
    "pickle.dump(y_train, f)\n",
    "f.close()\n",
    "\n",
    "f = open(data_dir + 'pickle/' + 'y_val', 'wb')\n",
    "pickle.dump(y_val, f)\n",
    "f.close()\n",
    "\n",
    "f = open(data_dir + 'pickle/' + 'y_test', 'wb')\n",
    "pickle.dump(y_test, f)\n",
    "f.close()\n",
    "\n",
    "f = open(data_dir + 'pickle/' + 'train_idx_dict', 'wb')\n",
    "pickle.dump(train_idx_dict, f)\n",
    "f.close()\n",
    "\n",
    "f = open(data_dir + 'pickle/' + 'test_idx_dict', 'wb')\n",
    "pickle.dump(test_idx_dict, f)\n",
    "f.close()\n",
    "\n",
    "f = open(data_dir + 'pickle/' + 'val_idx_dict', 'wb')\n",
    "pickle.dump(val_idx_dict, f)\n",
    "f.close()"
   ]
  },
  {
   "cell_type": "code",
   "execution_count": 5,
   "metadata": {
    "colab": {
     "base_uri": "https://localhost:8080/",
     "height": 204
    },
    "id": "LdyM3_zyddXk",
    "outputId": "9d5767e5-5c66-45ce-ba70-902aff7f8bbd"
   },
   "outputs": [],
   "source": [
    "# tmp = pickle.load(open(data_dir + 'pickle/' + 'img_info_cleaned_no_error', 'rb'))\n",
    "# tmp.head()"
   ]
  },
  {
   "cell_type": "code",
   "execution_count": null,
   "metadata": {
    "colab": {
     "base_uri": "https://localhost:8080/"
    },
    "id": "5ZLeG2kkdkLR",
    "outputId": "4365e474-c2e6-4f24-c7e2-92dde3e1a814"
   },
   "outputs": [
    {
     "data": {
      "text/plain": [
       "array([[0, 0, 0, ..., 0, 0, 0],\n",
       "       [0, 0, 0, ..., 0, 0, 0],\n",
       "       [0, 0, 0, ..., 0, 0, 0],\n",
       "       ...,\n",
       "       [0, 0, 0, ..., 0, 0, 0],\n",
       "       [0, 0, 0, ..., 0, 0, 0],\n",
       "       [0, 0, 0, ..., 0, 0, 0]], dtype=uint8)"
      ]
     },
     "execution_count": 31,
     "metadata": {
      "tags": []
     },
     "output_type": "execute_result"
    }
   ],
   "source": [
    "(tmp.resized_img.iloc[0])"
   ]
  },
  {
   "cell_type": "markdown",
   "metadata": {
    "id": "RLBFnRwuHRGo"
   },
   "source": [
    "# 3. Linear Model"
   ]
  },
  {
   "cell_type": "code",
   "execution_count": null,
   "metadata": {
    "id": "Z6PlkPl3NJ8M"
   },
   "outputs": [],
   "source": [
    "from sklearn.model_selection import train_test_split"
   ]
  },
  {
   "cell_type": "markdown",
   "metadata": {
    "id": "y93QWm9G_Vn1"
   },
   "source": [
    "## Train-test split"
   ]
  },
  {
   "cell_type": "code",
   "execution_count": null,
   "metadata": {
    "colab": {
     "base_uri": "https://localhost:8080/",
     "height": 232
    },
    "id": "RBr3FxTCMx5O",
    "outputId": "b5e25f2c-5e3d-47ed-e959-dbc37a3d6584"
   },
   "outputs": [
    {
     "ename": "NameError",
     "evalue": "ignored",
     "output_type": "error",
     "traceback": [
      "\u001b[0;31m---------------------------------------------------------------------------\u001b[0m",
      "\u001b[0;31mNameError\u001b[0m                                 Traceback (most recent call last)",
      "\u001b[0;32m<ipython-input-12-0cc426c48b1c>\u001b[0m in \u001b[0;36m<module>\u001b[0;34m()\u001b[0m\n\u001b[1;32m      1\u001b[0m \u001b[0;34m\u001b[0m\u001b[0m\n\u001b[1;32m      2\u001b[0m \u001b[0;31m# X_raw = img_info_cleaned['resized_img'].apply(lambda x: x.reshape(1, x.shape[0] * x.shape[1])[0]).values\u001b[0m\u001b[0;34m\u001b[0m\u001b[0;34m\u001b[0m\u001b[0;34m\u001b[0m\u001b[0m\n\u001b[0;32m----> 3\u001b[0;31m \u001b[0mX_raw\u001b[0m \u001b[0;34m=\u001b[0m \u001b[0mlist\u001b[0m\u001b[0;34m(\u001b[0m\u001b[0mimg_info_cleaned\u001b[0m\u001b[0;34m[\u001b[0m\u001b[0;34m'resized_img'\u001b[0m\u001b[0;34m]\u001b[0m\u001b[0;34m.\u001b[0m\u001b[0mapply\u001b[0m\u001b[0;34m(\u001b[0m\u001b[0;32mlambda\u001b[0m \u001b[0mx\u001b[0m\u001b[0;34m:\u001b[0m \u001b[0mlist\u001b[0m\u001b[0;34m(\u001b[0m\u001b[0mx\u001b[0m\u001b[0;34m.\u001b[0m\u001b[0mflatten\u001b[0m\u001b[0;34m(\u001b[0m\u001b[0;34m)\u001b[0m\u001b[0;34m)\u001b[0m\u001b[0;34m)\u001b[0m\u001b[0;34m.\u001b[0m\u001b[0mvalues\u001b[0m\u001b[0;34m)\u001b[0m\u001b[0;34m\u001b[0m\u001b[0;34m\u001b[0m\u001b[0m\n\u001b[0m\u001b[1;32m      4\u001b[0m \u001b[0;34m\u001b[0m\u001b[0m\n\u001b[1;32m      5\u001b[0m \u001b[0mX\u001b[0m \u001b[0;34m=\u001b[0m \u001b[0mnp\u001b[0m\u001b[0;34m.\u001b[0m\u001b[0marray\u001b[0m\u001b[0;34m(\u001b[0m\u001b[0mX_raw\u001b[0m\u001b[0;34m)\u001b[0m\u001b[0;34m\u001b[0m\u001b[0;34m\u001b[0m\u001b[0m\n",
      "\u001b[0;31mNameError\u001b[0m: name 'img_info_cleaned' is not defined"
     ]
    }
   ],
   "source": [
    "\n",
    "# X_raw = img_info_cleaned['resized_img'].apply(lambda x: x.reshape(1, x.shape[0] * x.shape[1])[0]).values\n",
    "X_raw = list(img_info_cleaned['resized_img'].apply(lambda x: list(x.flatten())).values)\n",
    "\n",
    "X = np.array(X_raw)\n",
    "y = img_info_cleaned['label'].values\n",
    "\n",
    "X_train, X_test, y_train, y_test = train_test_split(X, y, test_size = 0.3, random_state = 42)\n",
    "X_train, X_val, y_train, y_val = train_test_split(X_train, y_train, test_size = 0.3, random_state = 42)"
   ]
  },
  {
   "cell_type": "code",
   "execution_count": null,
   "metadata": {
    "id": "Sq0k47foB4gq"
   },
   "outputs": [],
   "source": [
    "print(X_train.shape, X_val.shape, X_test.shape)"
   ]
  },
  {
   "cell_type": "code",
   "execution_count": null,
   "metadata": {
    "id": "FVsnCIliLq3g"
   },
   "outputs": [],
   "source": []
  },
  {
   "cell_type": "markdown",
   "metadata": {
    "id": "REUjdXuhLrUv"
   },
   "source": [
    "## Model Selection"
   ]
  },
  {
   "cell_type": "code",
   "execution_count": null,
   "metadata": {
    "id": "J8itjxl1Lqxk"
   },
   "outputs": [],
   "source": [
    "#importing all the required ML packages\n",
    "from sklearn.linear_model import LogisticRegression #logistic regression\n",
    "from sklearn import svm #support vector Machine\n",
    "from sklearn.ensemble import RandomForestClassifier #Random Forest\n",
    "from sklearn.neighbors import KNeighborsClassifier #KNN\n",
    "from sklearn.tree import DecisionTreeClassifier #Decision Tree\n",
    "from sklearn.naive_bayes import GaussianNB #Naive bayes\n",
    "\n",
    "from sklearn.model_selection import train_test_split #training and testing data split\n",
    "from sklearn import metrics #accuracy measure\n",
    "from sklearn.metrics import confusion_matrix #for confusion matrix"
   ]
  },
  {
   "cell_type": "code",
   "execution_count": null,
   "metadata": {
    "id": "6eajm2HwLwG5"
   },
   "outputs": [],
   "source": [
    "# LogisticRegression\n",
    "acc_df = []\n",
    "for i in [0.001, 0.01, 0.1, 1, 10, 100, 1000, 10000]:\n",
    "    model = LogisticRegression(C = i, max_iter = 1000) \n",
    "    model.fit(X_train, y_train)\n",
    "    prediction = model.predict(X_val)\n",
    "    acc_df.append({\n",
    "        'c': i,\n",
    "        'acc': (metrics.accuracy_score(prediction, y_val))\n",
    "    })\n",
    "best_c_log = pd.DataFrame(acc_df).sort_values(by = 'acc', ascending = False).iloc[0].c\n",
    "\n",
    "# Test best model\n",
    "model = LogisticRegression(C = best_c_log, max_iter = 1000) \n",
    "model.fit(X_train, y_train)\n",
    "prediction = model.predict(X_val)\n",
    "print('Best acc of LogReg:', (metrics.accuracy_score(prediction, y_val)))"
   ]
  },
  {
   "cell_type": "code",
   "execution_count": null,
   "metadata": {
    "id": "dwMerxtXLwCm"
   },
   "outputs": [],
   "source": [
    "prediction = model.predict(X_test)\n",
    "print('Val acc for Logistic Regression is ', metrics.accuracy_score(prediction, y_test))"
   ]
  },
  {
   "cell_type": "code",
   "execution_count": null,
   "metadata": {
    "id": "sg4aUO-q_brL"
   },
   "outputs": [],
   "source": []
  },
  {
   "cell_type": "markdown",
   "metadata": {
    "id": "Vjmqc_ih_b8l"
   },
   "source": [
    "# 4. Neuro model"
   ]
  },
  {
   "cell_type": "code",
   "execution_count": null,
   "metadata": {
    "id": "oNxsm9NToG5U"
   },
   "outputs": [],
   "source": [
    "import torch\n",
    "import torch.nn as nn\n",
    "import torch.nn.functional as F\n",
    "from torchvision import datasets\n",
    "import torchvision.transforms as transforms\n",
    "from torch.utils.data.sampler import SubsetRandomSampler\n",
    "from torch.utils.data import Dataset, DataLoader, TensorDataset, RandomSampler, SequentialSampler\n",
    "import torch.optim as optim\n",
    "from datetime import date"
   ]
  },
  {
   "cell_type": "code",
   "execution_count": null,
   "metadata": {
    "id": "aF0g1oQf2NdG"
   },
   "outputs": [],
   "source": [
    "# config = {\n",
    "#     'model_idx': 1,\n",
    "#     'curr_label': 'label_ptosis',\n",
    "#     'data_pkl_dir': data_dir + 'pickle/' + 'img_info_cleaned_no_error',\n",
    "#     'class_num': 2,\n",
    "#     'chann1': 4,\n",
    "#     'chann2': 16,\n",
    "#     'chann3': 64,\n",
    "#     'mid_dim': 512,\n",
    "#     'dropout': 0.4,\n",
    "#     'batch_size': 20,\n",
    "#     'n_epochs': 2000,\n",
    "#     'from_checkpoint': 0\n",
    "# }\n",
    "# config['model_name'] = str(date.today()) + '-' + str(config['model_idx'])"
   ]
  },
  {
   "cell_type": "code",
   "execution_count": null,
   "metadata": {
    "colab": {
     "base_uri": "https://localhost:8080/",
     "height": 111
    },
    "id": "DQ0rKJgG6BRU",
    "outputId": "768e8140-0afe-45d5-a002-df7e12acfcbe"
   },
   "outputs": [
    {
     "data": {
      "text/html": [
       "<div>\n",
       "<style scoped>\n",
       "    .dataframe tbody tr th:only-of-type {\n",
       "        vertical-align: middle;\n",
       "    }\n",
       "\n",
       "    .dataframe tbody tr th {\n",
       "        vertical-align: top;\n",
       "    }\n",
       "\n",
       "    .dataframe thead th {\n",
       "        text-align: right;\n",
       "    }\n",
       "</style>\n",
       "<table border=\"1\" class=\"dataframe\">\n",
       "  <thead>\n",
       "    <tr style=\"text-align: right;\">\n",
       "      <th></th>\n",
       "      <th>original_name</th>\n",
       "      <th>new_name</th>\n",
       "      <th>group</th>\n",
       "      <th>filepath</th>\n",
       "      <th>label</th>\n",
       "      <th>dataset</th>\n",
       "      <th>resized_img</th>\n",
       "      <th>label_ptosis</th>\n",
       "      <th>label_ted</th>\n",
       "      <th>img_idx</th>\n",
       "    </tr>\n",
       "  </thead>\n",
       "  <tbody>\n",
       "    <tr>\n",
       "      <th>0</th>\n",
       "      <td>02AC08319550-020116-374.33.JPG</td>\n",
       "      <td>ptosis_nvzpclozaoeidsnwdcpv.JPG</td>\n",
       "      <td>ptosis</td>\n",
       "      <td>ptosis/ptosis_nvzpclozaoeidsnwdcpv.JPG</td>\n",
       "      <td>2</td>\n",
       "      <td>val</td>\n",
       "      <td>[[0, 0, 0, 0, 0, 0, 0, 0, 0, 0, 0, 0, 0, 0, 0,...</td>\n",
       "      <td>1</td>\n",
       "      <td>0</td>\n",
       "      <td>0</td>\n",
       "    </tr>\n",
       "    <tr>\n",
       "      <th>1</th>\n",
       "      <td>02AK13979406-060616-374.33.JPG</td>\n",
       "      <td>ptosis_eifbepvvxejylejtpgqb.JPG</td>\n",
       "      <td>ptosis</td>\n",
       "      <td>ptosis/ptosis_eifbepvvxejylejtpgqb.JPG</td>\n",
       "      <td>2</td>\n",
       "      <td>train</td>\n",
       "      <td>[[0, 0, 0, 0, 0, 0, 0, 0, 0, 0, 0, 0, 0, 0, 0,...</td>\n",
       "      <td>1</td>\n",
       "      <td>0</td>\n",
       "      <td>1</td>\n",
       "    </tr>\n",
       "  </tbody>\n",
       "</table>\n",
       "</div>"
      ],
      "text/plain": [
       "                    original_name  ... img_idx\n",
       "0  02AC08319550-020116-374.33.JPG  ...       0\n",
       "1  02AK13979406-060616-374.33.JPG  ...       1\n",
       "\n",
       "[2 rows x 10 columns]"
      ]
     },
     "execution_count": 7,
     "metadata": {
      "tags": []
     },
     "output_type": "execute_result"
    }
   ],
   "source": [
    "f = open(data_dir + 'pickle/' + 'img_info_cleaned_no_error', 'rb')\n",
    "img_info_cleaned_no_error = pickle.load(f).reset_index(drop = True)\n",
    "f.close()\n",
    "# img_info_cleaned_no_error['img_idx'] = range(img_info_cleaned_no_error.shape[0])\n",
    "img_info_cleaned_no_error.head(2)"
   ]
  },
  {
   "cell_type": "code",
   "execution_count": null,
   "metadata": {
    "id": "DRs1jWz0raam"
   },
   "outputs": [],
   "source": [
    "# img_info_cleaned_no_error['label_ptosis'] = img_info_cleaned_no_error.group.apply(lambda g: 1 if g == 'ptosis' else 0)\n",
    "# img_info_cleaned_no_error['label_ted'] = img_info_cleaned_no_error.group.apply(lambda g: 1 if g == 'thyroid_eye_disease' else 0)\n",
    "pickle.dump(img_info_cleaned_no_error, open(data_dir + 'pickle/' + 'img_info_cleaned_no_error', 'wb'))"
   ]
  },
  {
   "cell_type": "code",
   "execution_count": null,
   "metadata": {
    "colab": {
     "base_uri": "https://localhost:8080/"
    },
    "id": "7mK1CMZPradA",
    "outputId": "7eca6be5-efed-48d3-a716-0387c80dbae7"
   },
   "outputs": [
    {
     "data": {
      "text/plain": [
       "array([[0, 0, 0, ..., 0, 0, 0],\n",
       "       [0, 0, 0, ..., 0, 0, 0],\n",
       "       [0, 0, 0, ..., 0, 0, 0],\n",
       "       ...,\n",
       "       [0, 0, 0, ..., 0, 0, 0],\n",
       "       [0, 0, 0, ..., 0, 0, 0],\n",
       "       [0, 0, 0, ..., 0, 0, 0]], dtype=uint8)"
      ]
     },
     "execution_count": 9,
     "metadata": {
      "tags": []
     },
     "output_type": "execute_result"
    }
   ],
   "source": [
    "img_info_cleaned_no_error.resized_img.iloc[0]"
   ]
  },
  {
   "cell_type": "code",
   "execution_count": null,
   "metadata": {
    "id": "sRPE9O2i9SrS"
   },
   "outputs": [],
   "source": [
    "# .astype(float16)"
   ]
  },
  {
   "cell_type": "code",
   "execution_count": null,
   "metadata": {
    "id": "RTgkkgIJ9Aw8"
   },
   "outputs": [],
   "source": [
    "# torch.tensor([i for i in img_info_cleaned_no_error.resized_img.values])"
   ]
  },
  {
   "cell_type": "code",
   "execution_count": null,
   "metadata": {
    "id": "RzkqIR4L5o5e"
   },
   "outputs": [],
   "source": [
    "# torch.tensor([torch.tensor(i.numpy()) for i in train_df.resized_img.values])"
   ]
  },
  {
   "cell_type": "markdown",
   "metadata": {
    "id": "Y4GN-kebwdu-"
   },
   "source": [
    "## 4.1 Model Definition"
   ]
  },
  {
   "cell_type": "code",
   "execution_count": null,
   "metadata": {
    "id": "5dGccJ6rraiO"
   },
   "outputs": [],
   "source": []
  },
  {
   "cell_type": "code",
   "execution_count": null,
   "metadata": {
    "id": "RP3Os4VJoBRD"
   },
   "outputs": [],
   "source": [
    "class Trainer():\n",
    "    def __init__(self, config):\n",
    "        self.data_pkl_dir = config['data_pkl_dir']      \n",
    "        # config['original_size'] = self.data.resized_img.iloc[0].shape\n",
    "        self.original_size = config['original_size']\n",
    "        # self.model = DiagnoisisNet(config)\n",
    "        self.batch_size = config['batch_size']\n",
    "        self.curr_label = config['curr_label']\n",
    "        self.class_num = config['class_num']\n",
    "        self.n_epochs = config['n_epochs']\n",
    "        self.from_checkpoint = config['from_checkpoint']\n",
    "        \n",
    "        self.model_name = config['model_name']\n",
    "\n",
    "        self.training_log = file_dir + 'models/training_log.txt'\n",
    "        self.testing_log = file_dir + 'models/testing_log.txt' \n",
    "\n",
    "        self.training_log_lst = []\n",
    "\n",
    "    def dataloader_prep(self, df, train = False):\n",
    "        data_set = TensorDataset(torch.tensor(df[self.curr_label].values), \n",
    "                                 torch.tensor([i for i in df.resized_img.values]), \n",
    "                                 torch.tensor(df.img_idx.values))\n",
    "        if train:\n",
    "            return DataLoader(data_set, sampler = RandomSampler(data_set), batch_size = self.batch_size)\n",
    "        else:\n",
    "            return DataLoader(data_set, sampler = SequentialSampler(data_set), batch_size = self.batch_size)\n",
    "\n",
    "    \n",
    "    def data_prep(self):\n",
    "        data_file = open(self.data_pkl_dir, 'rb')\n",
    "        data = pickle.load(data_file)\n",
    "        # data_file.close()\n",
    "        train_df = data.query('dataset == \"train\"')\n",
    "        val_df = data.query('dataset == \"val\"')\n",
    "        test_df = data.query('dataset == \"test\"')\n",
    "        # display(train_df)\n",
    "\n",
    "        # dataset_train = \n",
    "        # dataset_val = TensorDataset(torch.tensor(val_df.resized_img), \n",
    "        #                             torch.tensor(val_df[self.curr_label]), \n",
    "        #                             torch.tensor(val_df.img_idx))\n",
    "        # dataset_test = TensorDataset(torch.tensor(test_df.resized_img), \n",
    "        #                              torch.tensor(test_df[self.curr_label]), \n",
    "        #                              torch.tensor(test_df.img_idx))\n",
    "\n",
    "        train_dataloader = self.dataloader_prep(train_df, train = True)\n",
    "        val_dataloader = self.dataloader_prep(val_df)\n",
    "        test_dataloader = self.dataloader_prep(test_df)\n",
    "        return train_dataloader, val_dataloader, test_dataloader\n",
    "\n",
    "    def train(self):\n",
    "        # Data preparation\n",
    "        train_dataloader, val_dataloader, test_dataloader = self.data_prep()\n",
    "        \n",
    "        # create a complete CNN\n",
    "        model = DiagnoisisNet(config)\n",
    "        # print(model)\n",
    "        # move tensors to GPU if CUDA is available\n",
    "        if torch.cuda.is_available():\n",
    "            print('Using cuda!')\n",
    "            model.cuda()\n",
    "        # specify loss function (categorical cross-entropy)\n",
    "        criterion = nn.CrossEntropyLoss()\n",
    "        # specify optimizer\n",
    "        optimizer = optim.Adam(model.parameters(), lr=0.00001)\n",
    "        # optimizer = optim.SGD(model.parameters(), lr=0.00001)\n",
    "        # train_on_gpu = torch.cuda.is_available()\n",
    "\n",
    "        valid_loss_min = np.Inf # track change in validation loss\n",
    "\n",
    "        starting_epoch = self.from_checkpoint + 1\n",
    "        best_test_acc = 0\n",
    "        for epoch in tqdm(range(starting_epoch, starting_epoch + self.n_epochs)):\n",
    "\n",
    "            # keep track of training and validation loss\n",
    "            train_loss = 0.0\n",
    "            valid_loss = 0.0\n",
    "            \n",
    "            ###################\n",
    "            # train the model #\n",
    "            ###################\n",
    "            model.train()\n",
    "\n",
    "            # indices = torch.randperm(len(X_train), dtype = torch.long, device = 'cpu')\n",
    "            # train_dataloader = torch.utils.data.DataLoader(indices, batch_size = batch_size)\n",
    "            train_pred = []\n",
    "            train_label = []\n",
    "            train_scores = []\n",
    "            for batch in train_dataloader:\n",
    "                data, label, img_names = batch\n",
    "                # move tensors to GPU if CUDA is available\n",
    "                if train_on_gpu:\n",
    "                    data, target = data.cuda(), target.cuda()\n",
    "                # clear the gradients of all optimized variables\n",
    "                optimizer.zero_grad()\n",
    "                # forward pass: compute predicted outputs by passing inputs to the model\n",
    "                output = model(data)\n",
    "\n",
    "                # print(output.shape, target.shape)\n",
    "                # calculate the batch loss\n",
    "                loss = criterion(output, target)\n",
    "                # backward pass: compute gradient of the loss with respect to model parameters\n",
    "                loss.backward()\n",
    "                # perform a single optimization step (parameter update)\n",
    "                optimizer.step()\n",
    "                # update training loss\n",
    "                train_loss += loss.item() * data.size(0)\n",
    "                output_scores = output.to('cpu').detach().numpy()\n",
    "                output = np.argmax(output_scores, axis = 1).flatten()\n",
    "                for o in output:\n",
    "                    train_pred.append(o)\n",
    "                for s in output_scores:\n",
    "                    train_scores.append(s)\n",
    "                for t in target:\n",
    "                    train_label.append(t)\n",
    "            train_acc = output_analysis(np.array(train_pred), np.array(train_label))['acc']\n",
    "\n",
    "            ######################    \n",
    "            # validate the model #\n",
    "            ######################\n",
    "            model.eval()\n",
    "            indices = list(range(len(X_val)))\n",
    "            test_dataloader = torch.utils.data.DataLoader(indices, batch_size = batch_size)\n",
    "            test_pred = []\n",
    "            test_label = []\n",
    "            test_scores = []\n",
    "            for batch in test_dataloader:\n",
    "                data, label, img_names = batch\n",
    "                # move tensors to GPU if CUDA is available\n",
    "                if train_on_gpu:\n",
    "                    data, target = data.cuda(), target.cuda()\n",
    "                # forward pass: compute predicted outputs by passing inputs to the model\n",
    "                with torch.no_grad():\n",
    "                    output = model(data)\n",
    "                # calculate the batch loss\n",
    "                \n",
    "                loss = criterion(output, target)\n",
    "                # update average validation loss \n",
    "                valid_loss += loss.item()*data.size(0)\n",
    "                # Update for acc\n",
    "                output_scores = output.to('cpu').detach().numpy()\n",
    "                output = np.argmax(output_scores, axis = 1).flatten()\n",
    "                for o in output:\n",
    "                    test_pred.append(o)\n",
    "                for s in output_scores:\n",
    "                    test_scores.append(s)\n",
    "                for t in target:\n",
    "                    test_label.append(t)\n",
    "            test_acc = output_analysis(np.array(test_pred), np.array(test_label))['acc']\n",
    "\n",
    "            # calculate average losses\n",
    "            train_loss = train_loss/len(X_train)\n",
    "            valid_loss = valid_loss/len(X_val)\n",
    "            \n",
    "            # if epoch % 10 == 0:\n",
    "            #     # print training/validation statistics \n",
    "            #     print('Epoch: {} \\tTraining Loss: {:.6f} \\tValidation Loss: {:.6f}'.format(\n",
    "            #         epoch, train_loss, valid_loss))\n",
    "            #     print('Train acc:', train_acc, '; vali acc:', test_acc)\n",
    "            \n",
    "            # save model if validation loss has decreased\n",
    "            if test_acc > best_test_acc:\n",
    "                torch.save(model.state_dict(), 'tmp_model.pt')\n",
    "                best_test_acc = test_acc\n",
    "            tmp_summary_dict = {}\n",
    "            tmp_summary_dict['epoch'] = epoch\n",
    "            tmp_summary_dict['val_acc'] = test_acc\n",
    "            tmp_summary_dict['train_acc'] = train_acc\n",
    "            tmp_summary_dict['train_loss'] = train_loss\n",
    "            tmp_summary_dict['valid_loss'] = valid_loss\n",
    "            self.training_log_lst.append(tmp_summary_dict)\n",
    "        training_summary_df = pd.DataFrame(self.training_log_lst)\n",
    "\n",
    "        model = DiagnoisisNet(class_num = 3)\n",
    "        model.load_state_dict(torch.load('tmp_model.pt'))\n",
    "        test_acc = self.run_single_test(model, test_dataloader, return_prediction_dict = False)\n",
    "        torch.save(model.state_dict(), file_dir + 'models/model_' + self.model_name + '.pt')\n",
    "        return training_summary_df, test_acc\n",
    "\n",
    "    def run_single_test(self, model, dataloader, return_prediction_dict = True):\n",
    "        model.cuda()\n",
    "        model.eval()\n",
    "        print()\n",
    "        print(\" => Running Testing...\")\n",
    "\n",
    "        nb_eval_steps, nb_eval_examples = 0, 0\n",
    "        test_label = []\n",
    "        test_pred = []\n",
    "        test_scores = []\n",
    "        all_prediction_dict = {}\n",
    "        first_batch = True\n",
    "        # Evaluate data for one epoch\n",
    "        for batch in tqdm(test_dataloader):\n",
    "\n",
    "            data, label, img_names = batch\n",
    "             # move tensors to GPU if CUDA is available\n",
    "            if train_on_gpu:\n",
    "                data, target = data.cuda(), target.cuda()\n",
    "            # forward pass: compute predicted outputs by passing inputs to the model\n",
    "            with torch.no_grad():\n",
    "                output = model(data)\n",
    "    \n",
    "            loss = criterion(output, target)\n",
    "            # update average validation loss \n",
    "            valid_loss += loss.item()*data.size(0)\n",
    "            # Update for acc\n",
    "            output_scores = output.to('cpu').detach().numpy()\n",
    "            output = np.argmax(output_scores, axis = 1).flatten()\n",
    "            for o in output:\n",
    "                test_pred.append(o)\n",
    "            for s in output_scores:\n",
    "                test_scores.append(s)\n",
    "            for t in target:\n",
    "                test_label.append(t)\n",
    "\n",
    "            for i in range(len(img_names)):\n",
    "                all_prediction_dict[img_names[i]] = [output_scores[i], output[i]]\n",
    "        test_acc = output_analysis(np.array(test_pred), np.array(test_label))['acc']\n",
    "        \n",
    "        if return_prediction_dict:\n",
    "            return test_acc, all_prediction_dict\n",
    "        else:\n",
    "            return test_acc\n",
    "\n",
    "# define the CNN architecture\n",
    "class DiagnoisisNet(nn.Module):\n",
    "    def __init__(self, config):\n",
    "        super(DiagnoisisNet, self).__init__()\n",
    "        self.original_w, self.original_h = config['original_size']\n",
    "        self.chann1 = config['chann1']\n",
    "        self.chann2 = config['chann2']\n",
    "        self.chann3 = config['chann3']\n",
    "        self.mid_dim = config['mid_dim']\n",
    "        self.class_num = config['class_num']\n",
    "\n",
    "        self.conv1 = nn.Conv2d(1, self.chann1, 3, padding = 1)\n",
    "        self.conv2 = nn.Conv2d(self.chann1, self.chann2, 3, padding = 1)\n",
    "        self.conv3 = nn.Conv2d(self.chann2, self.chann3, 3, padding = 1)\n",
    "        self.pool = nn.MaxPool2d(2, 2)\n",
    "        self.fc1 = nn.Linear(self.chann3 * self.original_w * self.original_h, self.mid_dim)\n",
    "        self.fc2 = nn.Linear(self.mid_dim, self.class_num)\n",
    "        self.dropout = nn.Dropout(config['dropout'])\n",
    "\n",
    "    def forward(self, x):\n",
    "        # add sequence of convolutional and max pooling layers\n",
    "        x = self.pool(F.relu(self.conv1(x)))\n",
    "        x = self.pool(F.relu(self.conv2(x)))\n",
    "        x = self.pool(F.relu(self.conv3(x)))\n",
    "        # print(x.shape)\n",
    "        x = x.view(-1, self.chann3 * self.original_w * self.original_h)\n",
    "        x = self.dropout(x)\n",
    "        x = F.relu(self.fc1(x))\n",
    "        x = self.dropout(x)\n",
    "        x = self.fc2(x)\n",
    "        return x\n",
    "\n",
    "def output_analysis(pred, targets):\n",
    "    pred = np.array(pred)\n",
    "    targets = np.array([int(i.to('cpu')) for i in targets])\n",
    "    acc = accuracy_score(targets, pred)\n",
    "    return {\n",
    "        'acc': round(100 * acc, 2)\n",
    "    }"
   ]
  },
  {
   "cell_type": "code",
   "execution_count": null,
   "metadata": {
    "colab": {
     "base_uri": "https://localhost:8080/",
     "height": 198
    },
    "id": "tuL8yDwi5UsR",
    "outputId": "cba601bf-fce6-4696-e30b-bea8e4a56c0a"
   },
   "outputs": [
    {
     "ename": "NameError",
     "evalue": "ignored",
     "output_type": "error",
     "traceback": [
      "\u001b[0;31m---------------------------------------------------------------------------\u001b[0m",
      "\u001b[0;31mNameError\u001b[0m                                 Traceback (most recent call last)",
      "\u001b[0;32m<ipython-input-14-823b7c2385e7>\u001b[0m in \u001b[0;36m<module>\u001b[0;34m()\u001b[0m\n\u001b[0;32m----> 1\u001b[0;31m \u001b[0mT\u001b[0m \u001b[0;34m=\u001b[0m \u001b[0mTrainer\u001b[0m\u001b[0;34m(\u001b[0m\u001b[0mconfig\u001b[0m\u001b[0;34m)\u001b[0m\u001b[0;34m\u001b[0m\u001b[0;34m\u001b[0m\u001b[0m\n\u001b[0m\u001b[1;32m      2\u001b[0m \u001b[0mT\u001b[0m\u001b[0;34m.\u001b[0m\u001b[0mtrain\u001b[0m\u001b[0;34m(\u001b[0m\u001b[0;34m)\u001b[0m\u001b[0;34m\u001b[0m\u001b[0;34m\u001b[0m\u001b[0m\n\u001b[1;32m      3\u001b[0m \u001b[0;31m# T.curr_label\u001b[0m\u001b[0;34m\u001b[0m\u001b[0;34m\u001b[0m\u001b[0;34m\u001b[0m\u001b[0m\n",
      "\u001b[0;31mNameError\u001b[0m: name 'config' is not defined"
     ]
    }
   ],
   "source": [
    "T = Trainer(config)\n",
    "T.train()\n",
    "# T.curr_label"
   ]
  },
  {
   "cell_type": "code",
   "execution_count": null,
   "metadata": {
    "id": "jkJviFaYoBX2"
   },
   "outputs": [],
   "source": [
    "# # define the CNN architecture\n",
    "# class DiagnoisisNet(nn.Module):\n",
    "#     def __init__(self, class_num):\n",
    "#         super(DiagnoisisNet, self).__init__()\n",
    "#         # convolutional layer (sees 32x32x3 image tensor)\n",
    "#         self.conv1 = nn.Conv2d(1, 4, 3, padding = 1)\n",
    "#         # convolutional layer (sees 16x16x16 tensor)\n",
    "#         self.conv2 = nn.Conv2d(4, 16, 3, padding = 1)\n",
    "#         # # convolutional layer (sees 8x8x32 tensor)\n",
    "#         self.conv3 = nn.Conv2d(16, 64, 3, padding = 1)\n",
    "#         # max pooling layer\n",
    "#         self.pool = nn.MaxPool2d(2, 2)\n",
    "\n",
    "#         self.fc1 = nn.Linear(64 * 32 * 64, 512)\n",
    "\n",
    "#         self.fc2 = nn.Linear(512, class_num)\n",
    "#         # dropout layer (p=0.4)\n",
    "#         self.dropout = nn.Dropout(0.4)\n",
    "\n",
    "\n",
    "#     def forward(self, x):\n",
    "#         # add sequence of convolutional and max pooling layers\n",
    "#         x = self.pool(F.relu(self.conv1(x)))\n",
    "#         x = self.pool(F.relu(self.conv2(x)))\n",
    "#         x = self.pool(F.relu(self.conv3(x)))\n",
    "#         print(x.shape)\n",
    "#         # flatten image input\n",
    "#         x = x.view(-1, 64 * 32 * 64)\n",
    "#         # add dropout layer\n",
    "#         x = self.dropout(x)\n",
    "#         # add 1st hidden layer, with relu activation function\n",
    "#         x = F.relu(self.fc1(x))\n",
    "#         # add dropout layer\n",
    "#         x = self.dropout(x)\n",
    "#         # add 2nd hidden layer, with relu activation function\n",
    "#         x = self.fc2(x)\n",
    "#         return x\n",
    "\n",
    "# def output_analysis(pred, targets):\n",
    "#     pred = np.array(pred)\n",
    "#     targets = np.array([int(i.to('cpu')) for i in targets])\n",
    "#     acc = accuracy_score(targets, pred)\n",
    "#     return {\n",
    "#         'acc': round(100 * acc, 2)\n",
    "#     }"
   ]
  },
  {
   "cell_type": "markdown",
   "metadata": {
    "id": "WLaoy8byL_Ae"
   },
   "source": [
    "## 4.1 Model Training"
   ]
  },
  {
   "cell_type": "code",
   "execution_count": null,
   "metadata": {
    "id": "ZtHKWf-wEcTB"
   },
   "outputs": [],
   "source": []
  },
  {
   "cell_type": "markdown",
   "metadata": {
    "id": "3VZ4mxt9yvTI"
   },
   "source": [
    "- **Setting current label!**"
   ]
  },
  {
   "cell_type": "code",
   "execution_count": null,
   "metadata": {
    "id": "Q2-tncscypae"
   },
   "outputs": [],
   "source": [
    "# current_label = 'label_ptosis'"
   ]
  },
  {
   "cell_type": "code",
   "execution_count": null,
   "metadata": {
    "id": "GEpOU4GqypdF"
   },
   "outputs": [],
   "source": [
    "# img_info_cleaned_no_error.resized_img.iloc[0].shape"
   ]
  },
  {
   "cell_type": "code",
   "execution_count": null,
   "metadata": {
    "id": "ZlH3XfVXyphG"
   },
   "outputs": [],
   "source": [
    "# img_info_cleaned_no_error.head()"
   ]
  },
  {
   "cell_type": "code",
   "execution_count": null,
   "metadata": {
    "id": "Wn9CiTGhz7zm"
   },
   "outputs": [],
   "source": [
    "# sum(X_train[0] != img_info_cleaned_no_error.resized_img.values[4])"
   ]
  },
  {
   "cell_type": "code",
   "execution_count": null,
   "metadata": {
    "id": "XdD8bDWrvGc9"
   },
   "outputs": [],
   "source": [
    "# f = open(data_dir + 'pickle/' + 'X_train', 'rb')\n",
    "# X_train = pickle.load(f)\n",
    "# f.close()"
   ]
  },
  {
   "cell_type": "code",
   "execution_count": null,
   "metadata": {
    "id": "4anJCWKOylsJ"
   },
   "outputs": [],
   "source": [
    "# type(X_train), len(X_train)"
   ]
  },
  {
   "cell_type": "code",
   "execution_count": null,
   "metadata": {
    "id": "2UmQjbP6zqoZ"
   },
   "outputs": [],
   "source": [
    "# f = open(data_dir + 'pickle/' + 'train_idx_dict', 'rb')\n",
    "# train_idx_dict = pickle.load(f)\n",
    "# f.close()\n",
    "# # train_idx_dict"
   ]
  },
  {
   "cell_type": "code",
   "execution_count": null,
   "metadata": {
    "id": "X4K0VG0oVJrK"
   },
   "outputs": [],
   "source": [
    "# f = open(data_dir + 'pickle/' + 'X_train', 'rb')\n",
    "# X_train = pickle.load(f)\n",
    "# f.close()\n",
    "\n",
    "# f = open(data_dir + 'pickle/' + 'X_val', 'rb')\n",
    "# X_val = pickle.load(f)\n",
    "# f.close()\n",
    "\n",
    "# f = open(data_dir + 'pickle/' + 'X_test', 'rb')\n",
    "# X_test = pickle.load(f)\n",
    "# f.close()\n",
    "\n",
    "# f = open(data_dir + 'pickle/' + 'y_train', 'rb')\n",
    "# y_train = pickle.load(f)\n",
    "# f.close()\n",
    "\n",
    "# f = open(data_dir + 'pickle/' + 'y_val', 'rb')\n",
    "# y_val = pickle.load(f)\n",
    "# f.close()\n",
    "\n",
    "# f = open(data_dir + 'pickle/' + 'y_test', 'rb')\n",
    "# y_test = pickle.load(f)\n",
    "# f.close()\n",
    "\n",
    "# f = open(data_dir + 'pickle/' + 'train_idx_dict', 'rb')\n",
    "# train_idx_dict = pickle.load(f)\n",
    "# f.close()\n",
    "\n",
    "# f = open(data_dir + 'pickle/' + 'val_idx_dict', 'rb')\n",
    "# val_idx_dict = pickle.load(f)\n",
    "# f.close()\n",
    "\n",
    "# f = open(data_dir + 'pickle/' + 'test_idx_dict', 'rb')\n",
    "# test_idx_dict = pickle.load(f)\n",
    "# f.close()\n",
    "\n",
    "# print(X_train.shape, X_val.shape, X_test.shape)\n",
    "# print(y_train.shape, y_val.shape, y_test.shape)"
   ]
  },
  {
   "cell_type": "code",
   "execution_count": null,
   "metadata": {
    "id": "fWQ9Lx7pplZE"
   },
   "outputs": [],
   "source": [
    "# sum(y_train) / len(y_train)"
   ]
  },
  {
   "cell_type": "code",
   "execution_count": null,
   "metadata": {
    "id": "NkjO_oo2OK3C"
   },
   "outputs": [],
   "source": [
    "# img_info_cleaned_no_error = pd.read_csv(file_dir + 'data/img_info_cleaned_no_error.csv')\n",
    "# img_info_cleaned_no_error.head()"
   ]
  },
  {
   "cell_type": "code",
   "execution_count": null,
   "metadata": {
    "id": "lTM40huTW9Ob"
   },
   "outputs": [],
   "source": [
    "# img_info_cleaned_no_error.shape"
   ]
  },
  {
   "cell_type": "code",
   "execution_count": null,
   "metadata": {
    "id": "vb1oud6eXIR4"
   },
   "outputs": [],
   "source": [
    "# X_train = torch.tensor(np.array([i for i in X_train]))\n",
    "# X_train = X_train.reshape((X_train.shape[0], 1, X_train.shape[1], X_train.shape[2])).float()\n",
    "\n",
    "# X_val = torch.tensor(np.array([i for i in X_val]))\n",
    "# X_val = X_val.reshape((X_val.shape[0], 1, X_val.shape[1], X_val.shape[2])).float()\n",
    "\n",
    "# X_test = torch.tensor(np.array([i for i in X_test]))\n",
    "# X_test = X_test.reshape((X_test.shape[0], 1, X_test.shape[1], X_test.shape[2])).float()\n",
    "\n",
    "# y_train = torch.tensor(y_train)\n",
    "# y_val = torch.tensor(y_val)\n",
    "# y_test = torch.tensor(y_test)"
   ]
  },
  {
   "cell_type": "code",
   "execution_count": null,
   "metadata": {
    "id": "S7MA_P31mXKe"
   },
   "outputs": [],
   "source": [
    "# X_train.shape"
   ]
  },
  {
   "cell_type": "code",
   "execution_count": null,
   "metadata": {
    "id": "XvM_lgh8-6iD"
   },
   "outputs": [],
   "source": [
    "# # number of subprocesses to use for data loading\n",
    "# num_workers = 0\n",
    "# # how many samples per batch to load\n",
    "# batch_size = 20\n",
    "# # percentage of training set to use as validation\n",
    "# # valid_size = 0.2"
   ]
  },
  {
   "cell_type": "code",
   "execution_count": null,
   "metadata": {
    "id": "aDBZOb74wjES"
   },
   "outputs": [],
   "source": []
  },
  {
   "cell_type": "code",
   "execution_count": null,
   "metadata": {
    "id": "HUNVGQDBQzKg"
   },
   "outputs": [],
   "source": []
  },
  {
   "cell_type": "code",
   "execution_count": null,
   "metadata": {
    "id": "B-q3dD-9-Fh7"
   },
   "outputs": [],
   "source": [
    "# # create a complete CNN\n",
    "# model = DiagnoisisNet(class_num = 3)\n",
    "# print(model)\n",
    "\n",
    "# # move tensors to GPU if CUDA is available\n",
    "# if torch.cuda.is_available():\n",
    "#     print('Using cuda!')\n",
    "#     model.cuda()\n",
    "\n",
    "# # specify loss function (categorical cross-entropy)\n",
    "# criterion = nn.CrossEntropyLoss()\n",
    "\n",
    "# # specify optimizer\n",
    "# optimizer = optim.Adam(model.parameters(), lr=0.00001)\n",
    "# # optimizer = optim.SGD(model.parameters(), lr=0.00001)\n",
    "\n",
    "# train_on_gpu = torch.cuda.is_available()"
   ]
  },
  {
   "cell_type": "code",
   "execution_count": null,
   "metadata": {
    "id": "Pm-o1behW2Ph"
   },
   "outputs": [],
   "source": []
  },
  {
   "cell_type": "code",
   "execution_count": null,
   "metadata": {
    "id": "Dzwn1Z11BI5l"
   },
   "outputs": [],
   "source": []
  },
  {
   "cell_type": "code",
   "execution_count": null,
   "metadata": {
    "id": "vlHpzF3i-Fqm"
   },
   "outputs": [],
   "source": [
    "# # number of epochs to train the model\n",
    "# n_epochs = 2000\n",
    "\n",
    "# valid_loss_min = np.Inf # track change in validation loss\n",
    "\n",
    "# best_test_acc = 0\n",
    "# for epoch in tqdm(range(1, n_epochs + 1)):\n",
    "\n",
    "#     # keep track of training and validation loss\n",
    "#     train_loss = 0.0\n",
    "#     valid_loss = 0.0\n",
    "    \n",
    "#     ###################\n",
    "#     # train the model #\n",
    "#     ###################\n",
    "#     model.train()\n",
    "\n",
    "#     indices = torch.randperm(len(X_train), dtype = torch.long, device = 'cpu')\n",
    "#     train_dataloader = torch.utils.data.DataLoader(indices, batch_size = batch_size)\n",
    "#     train_pred = []\n",
    "#     train_label = []\n",
    "#     train_scores = []\n",
    "#     for idx in train_dataloader:\n",
    "#         data, target = X_train[idx], y_train[idx]\n",
    "#         # move tensors to GPU if CUDA is available\n",
    "#         if train_on_gpu:\n",
    "#             data, target = data.cuda(), target.cuda()\n",
    "#         # clear the gradients of all optimized variables\n",
    "#         optimizer.zero_grad()\n",
    "#         # forward pass: compute predicted outputs by passing inputs to the model\n",
    "#         output = model(data)\n",
    "\n",
    "#         # print(output.shape, target.shape)\n",
    "#         # calculate the batch loss\n",
    "#         loss = criterion(output, target)\n",
    "#         # backward pass: compute gradient of the loss with respect to model parameters\n",
    "#         loss.backward()\n",
    "#         # perform a single optimization step (parameter update)\n",
    "#         optimizer.step()\n",
    "#         # update training loss\n",
    "#         train_loss += loss.item()*data.size(0)\n",
    "#         output_scores = output.to('cpu').detach().numpy()\n",
    "#         output = np.argmax(output_scores, axis = 1).flatten()\n",
    "#         for o in output:\n",
    "#             train_pred.append(o)\n",
    "#         for s in output_scores:\n",
    "#             train_scores.append(s)\n",
    "#         for t in target:\n",
    "#             train_label.append(t)\n",
    "#     train_acc = output_analysis(np.array(train_pred), np.array(train_label))['acc']\n",
    "\n",
    "#     ######################    \n",
    "#     # validate the model #\n",
    "#     ######################\n",
    "#     model.eval()\n",
    "#     indices = list(range(len(X_val)))\n",
    "#     test_dataloader = torch.utils.data.DataLoader(indices, batch_size = batch_size)\n",
    "#     test_pred = []\n",
    "#     test_label = []\n",
    "#     test_scores = []\n",
    "#     for idx in test_dataloader:\n",
    "#         data, target = X_val, y_val\n",
    "#         # move tensors to GPU if CUDA is available\n",
    "#         if train_on_gpu:\n",
    "#             data, target = data.cuda(), target.cuda()\n",
    "#         # forward pass: compute predicted outputs by passing inputs to the model\n",
    "#         output = model(data)\n",
    "#         # calculate the batch loss\n",
    "        \n",
    "#         loss = criterion(output, target)\n",
    "#         # update average validation loss \n",
    "#         valid_loss += loss.item()*data.size(0)\n",
    "#         # Update for acc\n",
    "#         output_scores = output.to('cpu').detach().numpy()\n",
    "#         output = np.argmax(output_scores, axis = 1).flatten()\n",
    "#         for o in output:\n",
    "#             test_pred.append(o)\n",
    "#         for s in output_scores:\n",
    "#             test_scores.append(s)\n",
    "#         for t in target:\n",
    "#             test_label.append(t)\n",
    "#     test_acc = output_analysis(np.array(test_pred), np.array(test_label))['acc']\n",
    "\n",
    "#     # calculate average losses\n",
    "#     train_loss = train_loss/len(X_train)\n",
    "#     valid_loss = valid_loss/len(X_val)\n",
    "    \n",
    "#     # if epoch % 10 == 0:\n",
    "#     #     # print training/validation statistics \n",
    "#     #     print('Epoch: {} \\tTraining Loss: {:.6f} \\tValidation Loss: {:.6f}'.format(\n",
    "#     #         epoch, train_loss, valid_loss))\n",
    "#     #     print('Train acc:', train_acc, '; vali acc:', test_acc)\n",
    "    \n",
    "#     # save model if validation loss has decreased\n",
    "#     if test_acc > best_test_acc:\n",
    "#         torch.save(model.state_dict(), 'model_cifar.pt')\n",
    "#         best_test_acc = test_acc"
   ]
  },
  {
   "cell_type": "code",
   "execution_count": null,
   "metadata": {
    "id": "j5j8NJE_-Fmr"
   },
   "outputs": [],
   "source": [
    "# model = DiagnoisisNet(class_num = 3)\n",
    "# model.load_state_dict(torch.load('model_cifar.pt'))\n",
    "# torch.save(model.state_dict(), file_dir + 'models/model_cifar.pt')"
   ]
  },
  {
   "cell_type": "code",
   "execution_count": null,
   "metadata": {
    "id": "irDXzwAp3jG1"
   },
   "outputs": [],
   "source": []
  },
  {
   "cell_type": "markdown",
   "metadata": {
    "id": "gEY9S6323jsP"
   },
   "source": [
    "- New trainer used below"
   ]
  },
  {
   "cell_type": "code",
   "execution_count": null,
   "metadata": {
    "id": "iy8xW3s53jJM"
   },
   "outputs": [],
   "source": [
    "config = {\n",
    "    'model_idx': 1,\n",
    "    'curr_label': 'label_ptosis',\n",
    "    'data_pkl_dir': data_dir + 'pickle/' + 'img_info_cleaned_no_error',\n",
    "    'class_num': 2,\n",
    "    'chann1': 4,\n",
    "    'chann2': 16,\n",
    "    'chann3': 64,\n",
    "    'mid_dim': 512,\n",
    "    'dropout': 0.4,\n",
    "    'batch_size': 20,\n",
    "    'n_epochs': 2000,\n",
    "    'from_checkpoint': 0,\n",
    "    'original_size': (256, 512)\n",
    "}\n",
    "config['model_name'] = str(date.today()) + '-' + str(config['model_idx'])"
   ]
  },
  {
   "cell_type": "code",
   "execution_count": null,
   "metadata": {
    "id": "kuJEFjHF3jK7"
   },
   "outputs": [],
   "source": [
    "T = Trainer(config)\n",
    "T.train()"
   ]
  },
  {
   "cell_type": "code",
   "execution_count": null,
   "metadata": {
    "colab": {
     "base_uri": "https://localhost:8080/",
     "height": 664
    },
    "id": "-ywSU7303jNY",
    "outputId": "e8cf4cc2-19e5-4aeb-b2de-43466df50cb9"
   },
   "outputs": [
    {
     "ename": "TypeError",
     "evalue": "ignored",
     "output_type": "error",
     "traceback": [
      "\u001b[0;31m---------------------------------------------------------------------------\u001b[0m",
      "\u001b[0;31mTypeError\u001b[0m                                 Traceback (most recent call last)",
      "\u001b[0;32m<ipython-input-14-a530101a21cb>\u001b[0m in \u001b[0;36m<module>\u001b[0;34m()\u001b[0m\n\u001b[0;32m----> 1\u001b[0;31m \u001b[0mT\u001b[0m\u001b[0;34m.\u001b[0m\u001b[0mtrain\u001b[0m\u001b[0;34m(\u001b[0m\u001b[0;34m)\u001b[0m\u001b[0;34m\u001b[0m\u001b[0;34m\u001b[0m\u001b[0m\n\u001b[0m",
      "\u001b[0;32m<ipython-input-10-91cfee55ae6d>\u001b[0m in \u001b[0;36mtrain\u001b[0;34m(self)\u001b[0m\n\u001b[1;32m     37\u001b[0m     \u001b[0;32mdef\u001b[0m \u001b[0mtrain\u001b[0m\u001b[0;34m(\u001b[0m\u001b[0mself\u001b[0m\u001b[0;34m)\u001b[0m\u001b[0;34m:\u001b[0m\u001b[0;34m\u001b[0m\u001b[0;34m\u001b[0m\u001b[0m\n\u001b[1;32m     38\u001b[0m         \u001b[0;31m# Data preparation\u001b[0m\u001b[0;34m\u001b[0m\u001b[0;34m\u001b[0m\u001b[0;34m\u001b[0m\u001b[0m\n\u001b[0;32m---> 39\u001b[0;31m         \u001b[0mtrain_dataloader\u001b[0m\u001b[0;34m,\u001b[0m \u001b[0mval_dataloader\u001b[0m\u001b[0;34m,\u001b[0m \u001b[0mtest_dataloader\u001b[0m \u001b[0;34m=\u001b[0m \u001b[0mself\u001b[0m\u001b[0;34m.\u001b[0m\u001b[0mdata_prep\u001b[0m\u001b[0;34m(\u001b[0m\u001b[0;34m)\u001b[0m\u001b[0;34m\u001b[0m\u001b[0;34m\u001b[0m\u001b[0m\n\u001b[0m\u001b[1;32m     40\u001b[0m \u001b[0;34m\u001b[0m\u001b[0m\n\u001b[1;32m     41\u001b[0m         \u001b[0;31m# create a complete CNN\u001b[0m\u001b[0;34m\u001b[0m\u001b[0;34m\u001b[0m\u001b[0;34m\u001b[0m\u001b[0m\n",
      "\u001b[0;32m<ipython-input-10-91cfee55ae6d>\u001b[0m in \u001b[0;36mdata_prep\u001b[0;34m(self)\u001b[0m\n\u001b[1;32m     26\u001b[0m         \u001b[0mtest_df\u001b[0m \u001b[0;34m=\u001b[0m \u001b[0mdata\u001b[0m\u001b[0;34m.\u001b[0m\u001b[0mquery\u001b[0m\u001b[0;34m(\u001b[0m\u001b[0;34m'dataset == \"test\"'\u001b[0m\u001b[0;34m)\u001b[0m\u001b[0;34m\u001b[0m\u001b[0;34m\u001b[0m\u001b[0m\n\u001b[1;32m     27\u001b[0m \u001b[0;34m\u001b[0m\u001b[0m\n\u001b[0;32m---> 28\u001b[0;31m         \u001b[0mdataset_train\u001b[0m \u001b[0;34m=\u001b[0m \u001b[0mTensorDataset\u001b[0m\u001b[0;34m(\u001b[0m\u001b[0mtrain_df\u001b[0m\u001b[0;34m.\u001b[0m\u001b[0mresized_img\u001b[0m\u001b[0;34m,\u001b[0m \u001b[0mtrain_df\u001b[0m\u001b[0;34m[\u001b[0m\u001b[0mself\u001b[0m\u001b[0;34m.\u001b[0m\u001b[0mcurr_label\u001b[0m\u001b[0;34m]\u001b[0m\u001b[0;34m,\u001b[0m \u001b[0mtrain_df\u001b[0m\u001b[0;34m.\u001b[0m\u001b[0mnew_name\u001b[0m\u001b[0;34m)\u001b[0m\u001b[0;34m\u001b[0m\u001b[0;34m\u001b[0m\u001b[0m\n\u001b[0m\u001b[1;32m     29\u001b[0m         \u001b[0mdataset_val\u001b[0m \u001b[0;34m=\u001b[0m \u001b[0mTensorDataset\u001b[0m\u001b[0;34m(\u001b[0m\u001b[0mval_df\u001b[0m\u001b[0;34m.\u001b[0m\u001b[0mresized_img\u001b[0m\u001b[0;34m,\u001b[0m \u001b[0mval_df\u001b[0m\u001b[0;34m[\u001b[0m\u001b[0mself\u001b[0m\u001b[0;34m.\u001b[0m\u001b[0mcurr_label\u001b[0m\u001b[0;34m]\u001b[0m\u001b[0;34m,\u001b[0m \u001b[0mval_df\u001b[0m\u001b[0;34m.\u001b[0m\u001b[0mnew_name\u001b[0m\u001b[0;34m)\u001b[0m\u001b[0;34m\u001b[0m\u001b[0;34m\u001b[0m\u001b[0m\n\u001b[1;32m     30\u001b[0m         \u001b[0mdataset_test\u001b[0m \u001b[0;34m=\u001b[0m \u001b[0mTensorDataset\u001b[0m\u001b[0;34m(\u001b[0m\u001b[0mtest_df\u001b[0m\u001b[0;34m.\u001b[0m\u001b[0mresized_img\u001b[0m\u001b[0;34m,\u001b[0m \u001b[0mtest_df\u001b[0m\u001b[0;34m[\u001b[0m\u001b[0mself\u001b[0m\u001b[0;34m.\u001b[0m\u001b[0mcurr_label\u001b[0m\u001b[0;34m]\u001b[0m\u001b[0;34m,\u001b[0m \u001b[0mtest_df\u001b[0m\u001b[0;34m.\u001b[0m\u001b[0mnew_name\u001b[0m\u001b[0;34m)\u001b[0m\u001b[0;34m\u001b[0m\u001b[0;34m\u001b[0m\u001b[0m\n",
      "\u001b[0;32m/usr/local/lib/python3.6/dist-packages/torch/utils/data/dataset.py\u001b[0m in \u001b[0;36m__init__\u001b[0;34m(self, *tensors)\u001b[0m\n\u001b[1;32m    164\u001b[0m \u001b[0;34m\u001b[0m\u001b[0m\n\u001b[1;32m    165\u001b[0m     \u001b[0;32mdef\u001b[0m \u001b[0m__init__\u001b[0m\u001b[0;34m(\u001b[0m\u001b[0mself\u001b[0m\u001b[0;34m,\u001b[0m \u001b[0;34m*\u001b[0m\u001b[0mtensors\u001b[0m\u001b[0;34m:\u001b[0m \u001b[0mTensor\u001b[0m\u001b[0;34m)\u001b[0m \u001b[0;34m->\u001b[0m \u001b[0;32mNone\u001b[0m\u001b[0;34m:\u001b[0m\u001b[0;34m\u001b[0m\u001b[0;34m\u001b[0m\u001b[0m\n\u001b[0;32m--> 166\u001b[0;31m         \u001b[0;32massert\u001b[0m \u001b[0mall\u001b[0m\u001b[0;34m(\u001b[0m\u001b[0mtensors\u001b[0m\u001b[0;34m[\u001b[0m\u001b[0;36m0\u001b[0m\u001b[0;34m]\u001b[0m\u001b[0;34m.\u001b[0m\u001b[0msize\u001b[0m\u001b[0;34m(\u001b[0m\u001b[0;36m0\u001b[0m\u001b[0;34m)\u001b[0m \u001b[0;34m==\u001b[0m \u001b[0mtensor\u001b[0m\u001b[0;34m.\u001b[0m\u001b[0msize\u001b[0m\u001b[0;34m(\u001b[0m\u001b[0;36m0\u001b[0m\u001b[0;34m)\u001b[0m \u001b[0;32mfor\u001b[0m \u001b[0mtensor\u001b[0m \u001b[0;32min\u001b[0m \u001b[0mtensors\u001b[0m\u001b[0;34m)\u001b[0m\u001b[0;34m\u001b[0m\u001b[0;34m\u001b[0m\u001b[0m\n\u001b[0m\u001b[1;32m    167\u001b[0m         \u001b[0mself\u001b[0m\u001b[0;34m.\u001b[0m\u001b[0mtensors\u001b[0m \u001b[0;34m=\u001b[0m \u001b[0mtensors\u001b[0m\u001b[0;34m\u001b[0m\u001b[0;34m\u001b[0m\u001b[0m\n\u001b[1;32m    168\u001b[0m \u001b[0;34m\u001b[0m\u001b[0m\n",
      "\u001b[0;32m/usr/local/lib/python3.6/dist-packages/torch/utils/data/dataset.py\u001b[0m in \u001b[0;36m<genexpr>\u001b[0;34m(.0)\u001b[0m\n\u001b[1;32m    164\u001b[0m \u001b[0;34m\u001b[0m\u001b[0m\n\u001b[1;32m    165\u001b[0m     \u001b[0;32mdef\u001b[0m \u001b[0m__init__\u001b[0m\u001b[0;34m(\u001b[0m\u001b[0mself\u001b[0m\u001b[0;34m,\u001b[0m \u001b[0;34m*\u001b[0m\u001b[0mtensors\u001b[0m\u001b[0;34m:\u001b[0m \u001b[0mTensor\u001b[0m\u001b[0;34m)\u001b[0m \u001b[0;34m->\u001b[0m \u001b[0;32mNone\u001b[0m\u001b[0;34m:\u001b[0m\u001b[0;34m\u001b[0m\u001b[0;34m\u001b[0m\u001b[0m\n\u001b[0;32m--> 166\u001b[0;31m         \u001b[0;32massert\u001b[0m \u001b[0mall\u001b[0m\u001b[0;34m(\u001b[0m\u001b[0mtensors\u001b[0m\u001b[0;34m[\u001b[0m\u001b[0;36m0\u001b[0m\u001b[0;34m]\u001b[0m\u001b[0;34m.\u001b[0m\u001b[0msize\u001b[0m\u001b[0;34m(\u001b[0m\u001b[0;36m0\u001b[0m\u001b[0;34m)\u001b[0m \u001b[0;34m==\u001b[0m \u001b[0mtensor\u001b[0m\u001b[0;34m.\u001b[0m\u001b[0msize\u001b[0m\u001b[0;34m(\u001b[0m\u001b[0;36m0\u001b[0m\u001b[0;34m)\u001b[0m \u001b[0;32mfor\u001b[0m \u001b[0mtensor\u001b[0m \u001b[0;32min\u001b[0m \u001b[0mtensors\u001b[0m\u001b[0;34m)\u001b[0m\u001b[0;34m\u001b[0m\u001b[0;34m\u001b[0m\u001b[0m\n\u001b[0m\u001b[1;32m    167\u001b[0m         \u001b[0mself\u001b[0m\u001b[0;34m.\u001b[0m\u001b[0mtensors\u001b[0m \u001b[0;34m=\u001b[0m \u001b[0mtensors\u001b[0m\u001b[0;34m\u001b[0m\u001b[0;34m\u001b[0m\u001b[0m\n\u001b[1;32m    168\u001b[0m \u001b[0;34m\u001b[0m\u001b[0m\n",
      "\u001b[0;31mTypeError\u001b[0m: 'int' object is not callable"
     ]
    }
   ],
   "source": []
  },
  {
   "cell_type": "markdown",
   "metadata": {
    "id": "x_1OCdyvVv_c"
   },
   "source": [
    "## 4.2 Model Testing"
   ]
  },
  {
   "cell_type": "code",
   "execution_count": null,
   "metadata": {
    "colab": {
     "base_uri": "https://localhost:8080/"
    },
    "id": "XypoFAqSrtBP",
    "outputId": "b1444fff-c016-4eb6-f677-3cad03c23cf7"
   },
   "outputs": [
    {
     "data": {
      "text/plain": [
       "DiagnoisisNet(\n",
       "  (conv1): Conv2d(1, 4, kernel_size=(3, 3), stride=(1, 1), padding=(1, 1))\n",
       "  (conv2): Conv2d(4, 16, kernel_size=(3, 3), stride=(1, 1), padding=(1, 1))\n",
       "  (conv3): Conv2d(16, 64, kernel_size=(3, 3), stride=(1, 1), padding=(1, 1))\n",
       "  (pool): MaxPool2d(kernel_size=2, stride=2, padding=0, dilation=1, ceil_mode=False)\n",
       "  (fc1): Linear(in_features=131072, out_features=512, bias=True)\n",
       "  (fc2): Linear(in_features=512, out_features=3, bias=True)\n",
       "  (dropout): Dropout(p=0.4, inplace=False)\n",
       ")"
      ]
     },
     "execution_count": 64,
     "metadata": {
      "tags": []
     },
     "output_type": "execute_result"
    }
   ],
   "source": [
    "model = DiagnoisisNet(class_num = 3)\n",
    "model.load_state_dict(torch.load(file_dir + 'models/model_cifar.pt'))\n",
    "model.eval()"
   ]
  },
  {
   "cell_type": "code",
   "execution_count": null,
   "metadata": {
    "colab": {
     "base_uri": "https://localhost:8080/"
    },
    "id": "t2HLB8clVFNN",
    "outputId": "28188ddb-19fc-469f-990e-ca66405b72a6"
   },
   "outputs": [
    {
     "data": {
      "text/plain": [
       "100.0"
      ]
     },
     "execution_count": 65,
     "metadata": {
      "tags": []
     },
     "output_type": "execute_result"
    }
   ],
   "source": [
    "output_train = model(X_train)\n",
    "train_scores = output_train.detach().numpy()\n",
    "output_train = np.argmax(train_scores, axis = 1).flatten()\n",
    "output_analysis(output_train, y_train)['acc']"
   ]
  },
  {
   "cell_type": "code",
   "execution_count": null,
   "metadata": {
    "colab": {
     "base_uri": "https://localhost:8080/"
    },
    "id": "zuZDIie8t3Vw",
    "outputId": "09f09d29-de8d-4a51-cc2d-2a0c827aa687"
   },
   "outputs": [
    {
     "data": {
      "text/plain": [
       "74.48"
      ]
     },
     "execution_count": 66,
     "metadata": {
      "tags": []
     },
     "output_type": "execute_result"
    }
   ],
   "source": [
    "output_val = model(X_val)\n",
    "val_scores = output_val.detach().numpy()\n",
    "output_val = np.argmax(val_scores, axis = 1).flatten()\n",
    "output_analysis(output_val, y_val)['acc']"
   ]
  },
  {
   "cell_type": "code",
   "execution_count": null,
   "metadata": {
    "colab": {
     "base_uri": "https://localhost:8080/"
    },
    "id": "gfq-UHzxrtEd",
    "outputId": "fcd3647f-29d4-4130-f3ef-b7b9803d3e1a"
   },
   "outputs": [
    {
     "data": {
      "text/plain": [
       "74.4"
      ]
     },
     "execution_count": 67,
     "metadata": {
      "tags": []
     },
     "output_type": "execute_result"
    }
   ],
   "source": [
    "output_test = model(X_test)\n",
    "test_scores = output_test.detach().numpy()\n",
    "output_test = np.argmax(test_scores, axis = 1).flatten()\n",
    "output_analysis(output_test, y_test)['acc']"
   ]
  },
  {
   "cell_type": "code",
   "execution_count": null,
   "metadata": {
    "colab": {
     "base_uri": "https://localhost:8080/"
    },
    "id": "uAiOG8WNSCq2",
    "outputId": "d0e1c3a9-90fd-4642-9440-31d999ff3ea5"
   },
   "outputs": [
    {
     "data": {
      "text/plain": [
       "array([0, 1, 1, 0, 0, 0, 1, 0, 1, 0, 1, 2, 1, 1, 1, 1, 1, 2, 1, 0, 2, 2,\n",
       "       0, 1, 0, 0, 0, 2, 1, 1, 2, 1, 1, 2, 1, 0, 0, 1, 0, 2, 0, 2, 0, 0,\n",
       "       1, 1, 1, 0, 1, 1, 0, 2, 0, 2, 1, 0, 1, 0, 1, 1, 2, 1, 0, 1, 0, 1,\n",
       "       0, 2, 2, 2, 0, 2, 0, 0, 0, 1, 2, 0, 2, 1, 1, 1, 1, 1, 2, 2, 2, 2,\n",
       "       2, 2, 1, 0, 2, 1, 1, 2, 1, 1, 0, 1, 2, 0, 0, 1, 2, 2, 1, 2, 1, 2,\n",
       "       2, 0, 0, 2, 2, 0, 0, 2, 0, 2, 0, 0, 1, 1, 1, 0, 1, 1, 1, 2, 2, 1,\n",
       "       2, 0, 0, 2, 2, 1, 2, 2, 2, 2, 0, 1, 0, 0, 0, 1, 2, 1, 1, 1, 2, 2,\n",
       "       1, 2, 2, 0, 0, 1, 0, 0, 0, 2, 2, 0, 0, 1, 2, 0, 1, 0, 2, 1, 1, 0,\n",
       "       1, 1, 1, 0, 1, 2, 0, 1, 0, 0, 2, 2, 0, 1, 2, 1, 1, 1, 0, 2, 2, 2,\n",
       "       2, 2, 0, 0, 0, 2, 2, 1, 1])"
      ]
     },
     "execution_count": 68,
     "metadata": {
      "tags": []
     },
     "output_type": "execute_result"
    }
   ],
   "source": [
    "output_test"
   ]
  },
  {
   "cell_type": "code",
   "execution_count": null,
   "metadata": {
    "id": "S35FPfkXQ1cu"
   },
   "outputs": [],
   "source": [
    "sftmax = nn.Softmax(dim = 1)\n",
    "\n",
    "train_scores = sftmax(torch.tensor(train_scores))\n",
    "val_scores = sftmax(torch.tensor(val_scores))\n",
    "test_scores = sftmax(torch.tensor(test_scores))"
   ]
  },
  {
   "cell_type": "code",
   "execution_count": null,
   "metadata": {
    "colab": {
     "base_uri": "https://localhost:8080/",
     "height": 34
    },
    "id": "SzQxjjgvQ1fT",
    "outputId": "67669f02-177c-4a2c-8f5e-7ce3600fa6ef"
   },
   "outputs": [
    {
     "data": {
      "text/plain": [
       "0.93"
      ]
     },
     "execution_count": 22,
     "metadata": {
      "tags": []
     },
     "output_type": "execute_result"
    }
   ],
   "source": [
    "round(float(max(train_scores[0])), 2)"
   ]
  },
  {
   "cell_type": "code",
   "execution_count": null,
   "metadata": {
    "id": "bRMJegCGRhRS"
   },
   "outputs": [],
   "source": [
    "all_prediction = np.zeros(len(output_test) + len(output_train) + len(output_val))\n",
    "all_scores = np.zeros(len(all_prediction))\n",
    "for i in range(len(X_train)):\n",
    "    all_prediction[train_idx_dict[i]] = output_train[i]\n",
    "    all_scores[train_idx_dict[i]] = round(float(max(train_scores[i])), 2)\n",
    "for i in range(len(X_val)):\n",
    "    all_prediction[val_idx_dict[i]] = output_val[i]\n",
    "    all_scores[val_idx_dict[i]] = round(float(max(val_scores[i])), 2)\n",
    "for i in range(len(X_test)):\n",
    "    all_prediction[test_idx_dict[i]] = output_test[i]\n",
    "    all_scores[test_idx_dict[i]] = round(float(max(test_scores[i])), 2)\n",
    "\n",
    "img_info_cleaned['all_scores'] = all_scores\n",
    "img_info_cleaned['all_prediction'] = all_prediction"
   ]
  },
  {
   "cell_type": "code",
   "execution_count": null,
   "metadata": {
    "id": "qFKSkv9JRhDM"
   },
   "outputs": [],
   "source": [
    "img_info_cleaned['correct'] = img_info_cleaned.apply(lambda s: 1 if s.all_prediction == s.label else 0, axis = 1)"
   ]
  },
  {
   "cell_type": "code",
   "execution_count": null,
   "metadata": {
    "id": "hvnnJ36nV7Sp"
   },
   "outputs": [],
   "source": [
    "# img_info_cleaned.to_csv(file_dir + 'data/img_info_cleaned.csv', index = False)"
   ]
  },
  {
   "cell_type": "markdown",
   "metadata": {
    "id": "gqywoUQ7WAtp"
   },
   "source": [
    "## Score analysis\n",
    "- Statistical distribution\n",
    "- Statistical tests\n",
    "- Outliers"
   ]
  },
  {
   "cell_type": "code",
   "execution_count": null,
   "metadata": {
    "colab": {
     "base_uri": "https://localhost:8080/",
     "height": 181
    },
    "id": "ognwIZSDpoVI",
    "outputId": "08969ef1-36b5-4a7d-c2ce-976024a737df"
   },
   "outputs": [
    {
     "ename": "NameError",
     "evalue": "ignored",
     "output_type": "error",
     "traceback": [
      "\u001b[0;31m---------------------------------------------------------------------------\u001b[0m",
      "\u001b[0;31mNameError\u001b[0m                                 Traceback (most recent call last)",
      "\u001b[0;32m<ipython-input-1-f782332ff027>\u001b[0m in \u001b[0;36m<module>\u001b[0;34m()\u001b[0m\n\u001b[0;32m----> 1\u001b[0;31m \u001b[0mimg_info_cleaned\u001b[0m \u001b[0;34m=\u001b[0m \u001b[0mpd\u001b[0m\u001b[0;34m.\u001b[0m\u001b[0mread_csv\u001b[0m\u001b[0;34m(\u001b[0m\u001b[0mfile_dir\u001b[0m \u001b[0;34m+\u001b[0m \u001b[0;34m'data/img_info_cleaned.csv'\u001b[0m\u001b[0;34m)\u001b[0m\u001b[0;34m\u001b[0m\u001b[0;34m\u001b[0m\u001b[0m\n\u001b[0m\u001b[1;32m      2\u001b[0m \u001b[0mimg_info_cleaned\u001b[0m\u001b[0;34m.\u001b[0m\u001b[0mhead\u001b[0m\u001b[0;34m(\u001b[0m\u001b[0;34m)\u001b[0m\u001b[0;34m\u001b[0m\u001b[0;34m\u001b[0m\u001b[0m\n",
      "\u001b[0;31mNameError\u001b[0m: name 'pd' is not defined"
     ]
    }
   ],
   "source": [
    "img_info_cleaned = pd.read_csv(file_dir + 'data/img_info_cleaned.csv')\n",
    "img_info_cleaned.head()"
   ]
  },
  {
   "cell_type": "code",
   "execution_count": null,
   "metadata": {
    "colab": {
     "base_uri": "https://localhost:8080/",
     "height": 297
    },
    "id": "HMGbSjeEJ9z1",
    "outputId": "02339987-99bc-4fc6-dd06-0f4e4df6e17a"
   },
   "outputs": [
    {
     "data": {
      "text/plain": [
       "<matplotlib.axes._subplots.AxesSubplot at 0x7fd8d064da90>"
      ]
     },
     "execution_count": 56,
     "metadata": {
      "tags": []
     },
     "output_type": "execute_result"
    },
    {
     "data": {
      "image/png": "[encoded data removed]",
      "text/plain": [
       "<Figure size 432x288 with 1 Axes>"
      ]
     },
     "metadata": {
      "tags": []
     },
     "output_type": "display_data"
    }
   ],
   "source": [
    "sns.distplot(img_info_cleaned.query('dataset == \"test\" & correct == 0').all_scores)"
   ]
  },
  {
   "cell_type": "code",
   "execution_count": null,
   "metadata": {
    "colab": {
     "base_uri": "https://localhost:8080/",
     "height": 297
    },
    "id": "QF_mUquWJ985",
    "outputId": "3e017d11-cd74-47d2-c87b-eae2e4c3acaa"
   },
   "outputs": [
    {
     "data": {
      "text/plain": [
       "<matplotlib.axes._subplots.AxesSubplot at 0x7fd8d05c1198>"
      ]
     },
     "execution_count": 57,
     "metadata": {
      "tags": []
     },
     "output_type": "execute_result"
    },
    {
     "data": {
      "image/png": "[encoded data removed]",
      "text/plain": [
       "<Figure size 432x288 with 1 Axes>"
      ]
     },
     "metadata": {
      "tags": []
     },
     "output_type": "display_data"
    }
   ],
   "source": [
    "sns.distplot(img_info_cleaned.query('dataset == \"test\" & correct == 1').all_scores)"
   ]
  },
  {
   "cell_type": "code",
   "execution_count": null,
   "metadata": {
    "colab": {
     "base_uri": "https://localhost:8080/",
     "height": 296
    },
    "id": "0LiUH5Z-J-Aa",
    "outputId": "348041c4-49f7-465c-b025-e28c362182f6"
   },
   "outputs": [
    {
     "data": {
      "text/plain": [
       "<matplotlib.axes._subplots.AxesSubplot at 0x7fd8d0580f60>"
      ]
     },
     "execution_count": 58,
     "metadata": {
      "tags": []
     },
     "output_type": "execute_result"
    },
    {
     "data": {
      "image/png": "[encoded data removed]",
      "text/plain": [
       "<Figure size 432x288 with 1 Axes>"
      ]
     },
     "metadata": {
      "tags": []
     },
     "output_type": "display_data"
    }
   ],
   "source": [
    "sns.boxplot(x = 'correct', y = 'all_scores', data = img_info_cleaned.query('dataset == \"test\"'))"
   ]
  },
  {
   "cell_type": "code",
   "execution_count": null,
   "metadata": {
    "colab": {
     "base_uri": "https://localhost:8080/",
     "height": 34
    },
    "id": "INwiZC7UJ97P",
    "outputId": "1c21f990-c958-44d3-c4be-e28e5f546c20"
   },
   "outputs": [
    {
     "data": {
      "text/plain": [
       "Ks_2sampResult(statistic=0.5396825396825397, pvalue=2.4950139819068795e-05)"
      ]
     },
     "execution_count": 59,
     "metadata": {
      "tags": []
     },
     "output_type": "execute_result"
    }
   ],
   "source": [
    "import scipy\n",
    "\n",
    "scipy.stats.ks_2samp(img_info_cleaned.query('dataset == \"test\" & correct == 0').all_scores, img_info_cleaned.query('dataset == \"test\" & correct == 1').all_scores)"
   ]
  },
  {
   "cell_type": "code",
   "execution_count": null,
   "metadata": {
    "id": "GXowoePVdaAp"
   },
   "outputs": [],
   "source": []
  },
  {
   "cell_type": "markdown",
   "metadata": {
    "id": "Z7ez4eDtqDMJ"
   },
   "source": [
    "## Error case analysis"
   ]
  },
  {
   "cell_type": "code",
   "execution_count": 3,
   "metadata": {
    "colab": {
     "base_uri": "https://localhost:8080/",
     "height": 700
    },
    "id": "HUAj_v1gdaFI",
    "outputId": "29a44cbf-c359-42e2-f901-f97ddf616771"
   },
   "outputs": [],
   "source": [
    "# img_info_cleaned.query('dataset == \"test\" & correct == 0').sort_values(by = 'all_scores', ascending = False)\\\n",
    "#     [['original_name', 'new_name', 'label', 'all_prediction', 'all_scores']]"
   ]
  },
  {
   "cell_type": "code",
   "execution_count": 2,
   "metadata": {
    "colab": {
     "base_uri": "https://localhost:8080/",
     "height": 266
    },
    "id": "dW8uYSOeqGGG",
    "outputId": "b31facd1-0f18-45d2-8735-3f5beaf2f440"
   },
   "outputs": [],
   "source": [
    "# high_score_failures = img_info_cleaned.query('dataset == \"test\" & correct == 0').sort_values(by = 'all_scores', ascending = False)\\\n",
    "#     [['original_name', 'new_name', 'label', 'all_prediction', 'all_scores']].query('all_scores > 0.8').reset_index(drop = True)\n",
    "# high_score_failures"
   ]
  },
  {
   "cell_type": "code",
   "execution_count": 1,
   "metadata": {
    "colab": {
     "base_uri": "https://localhost:8080/",
     "height": 841
    },
    "id": "C9F8QCUmqPCO",
    "outputId": "cd78de76-7bb2-4d6b-b5bb-3ba69e34b817"
   },
   "outputs": [],
   "source": [
    "# for i in range(high_score_failures.shape[0]):\n",
    "#     file_name = high_score_failures.new_name.iloc[i]\n",
    "#     file_path = '_'.join(file_name.split('_')[:-1])\n",
    "#     img_path = data_dir + 'processed/' + file_path + '/' + file_name\n",
    "#     # print(data_dir + file_path + '/' + file_name)\n",
    "#     img = cv2.cvtColor(cv2.imread(img_path), cv2.COLOR_BGR2RGB)\n",
    "#     display_one(img, file_path)"
   ]
  },
  {
   "cell_type": "code",
   "execution_count": null,
   "metadata": {
    "id": "_fnbezI6qGcH"
   },
   "outputs": [],
   "source": []
  },
  {
   "cell_type": "code",
   "execution_count": null,
   "metadata": {
    "id": "qXALddBHqGZU"
   },
   "outputs": [],
   "source": []
  },
  {
   "cell_type": "code",
   "execution_count": null,
   "metadata": {
    "id": "7O7LEZQiqGLL"
   },
   "outputs": [],
   "source": []
  },
  {
   "cell_type": "code",
   "execution_count": null,
   "metadata": {
    "id": "neoWwkNwqGDj"
   },
   "outputs": [],
   "source": []
  },
  {
   "cell_type": "code",
   "execution_count": null,
   "metadata": {
    "id": "H9L8U9Bxrs8o"
   },
   "outputs": [],
   "source": []
  },
  {
   "cell_type": "code",
   "execution_count": null,
   "metadata": {
    "id": "qGzU9bFZatrw"
   },
   "outputs": [],
   "source": []
  },
  {
   "cell_type": "code",
   "execution_count": null,
   "metadata": {
    "id": "zfRv0I4ZatnJ"
   },
   "outputs": [],
   "source": []
  },
  {
   "cell_type": "markdown",
   "metadata": {
    "id": "3NsIi0IrMRsT"
   },
   "source": [
    "# End"
   ]
  },
  {
   "cell_type": "code",
   "execution_count": null,
   "metadata": {
    "id": "XBRzdsWp0uGN"
   },
   "outputs": [],
   "source": []
  }
 ],
 "metadata": {
  "accelerator": "GPU",
  "colab": {
   "collapsed_sections": [
    "-vd0dddK5NCb",
    "O2GrJRecspeH",
    "RLBFnRwuHRGo",
    "REUjdXuhLrUv",
    "x_1OCdyvVv_c",
    "gqywoUQ7WAtp"
   ],
   "name": "[Latest] facial_diagnosis.ipynb",
   "provenance": []
  },
  "kernelspec": {
   "display_name": "Python 3",
   "language": "python",
   "name": "python3"
  },
  "language_info": {
   "codemirror_mode": {
    "name": "ipython",
    "version": 3
   },
   "file_extension": ".py",
   "mimetype": "text/x-python",
   "name": "python",
   "nbconvert_exporter": "python",
   "pygments_lexer": "ipython3",
   "version": "3.8.3"
  },
  "toc": {
   "base_numbering": 1,
   "nav_menu": {},
   "number_sections": true,
   "sideBar": true,
   "skip_h1_title": false,
   "title_cell": "Table of Contents",
   "title_sidebar": "Contents",
   "toc_cell": false,
   "toc_position": {},
   "toc_section_display": true,
   "toc_window_display": false
  }
 },
 "nbformat": 4,
 "nbformat_minor": 1
}
